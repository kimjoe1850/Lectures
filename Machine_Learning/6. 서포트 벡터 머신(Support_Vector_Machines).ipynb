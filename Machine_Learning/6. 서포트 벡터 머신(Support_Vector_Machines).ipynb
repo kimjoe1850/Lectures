{
  "nbformat": 4,
  "nbformat_minor": 0,
  "metadata": {
    "colab": {
      "provenance": [],
      "collapsed_sections": [
        "1b30IAFxN8XR",
        "jJfcIODbN6ec",
        "fGErBCXR3P_p",
        "M7QkeGrdOAxV",
        "8488abTBN-GA",
        "nidX5eMZ3ncE"
      ],
      "include_colab_link": true
    },
    "kernelspec": {
      "name": "python3",
      "display_name": "Python 3"
    }
  },
  "cells": [
    {
      "cell_type": "markdown",
      "metadata": {
        "id": "view-in-github",
        "colab_type": "text"
      },
      "source": [
        "<a href=\"https://colab.research.google.com/github/kimjoe1850/Lectures/blob/main/Machine_Learning/6.%20%EC%84%9C%ED%8F%AC%ED%8A%B8%20%EB%B2%A1%ED%84%B0%20%EB%A8%B8%EC%8B%A0(Support_Vector_Machines).ipynb\" target=\"_parent\"><img src=\"https://colab.research.google.com/assets/colab-badge.svg\" alt=\"Open In Colab\"/></a>"
      ]
    },
    {
      "cell_type": "markdown",
      "metadata": {
        "id": "g63soNOvFUSa"
      },
      "source": [
        "# 서포트 벡터 머신(Support Vector Machines)"
      ]
    },
    {
      "cell_type": "markdown",
      "metadata": {
        "id": "Rrbp02Mk5CDA"
      },
      "source": [
        "* 회귀, 분류, 이상치 탐지 등에 사용되는 지도학습 방법\n",
        "* 클래스 사이의 경계에 위치한 데이터 포인트를 서포트 벡터(support vector)라고 함\n",
        "* 각 지지 벡터가 클래스 사이의 결정 경계를 구분하는데 얼마나 중요한지를 학습\n",
        "* 각 지지 벡터 사이의 마진(선과 점 사이의 거리)이 가장 큰 방향으로 학습\n",
        "* 지지 벡터 까지의 거리와 지지 벡터의 중요도를 기반으로 예측을 수행\n",
        "\n",
        "![support vector machine](https://upload.wikimedia.org/wikipedia/commons/thumb/2/20/Svm_separating_hyperplanes.png/220px-Svm_separating_hyperplanes.png)\n",
        "\n",
        "* H3은 두 클래스의 점들을 제대로 분류하고 있지 않음\n",
        "* H1과 H2는 두 클래스의 점들을 분류하는데, H2가 H1보다 더 큰 마진을 갖고 분류하는 것을 확인할 수 있음"
      ]
    },
    {
      "cell_type": "code",
      "metadata": {
        "id": "zBilnkAn4_U3"
      },
      "source": [
        "import multiprocessing\n",
        "import numpy as np\n",
        "import pandas as pd\n",
        "import matplotlib.pyplot as plt\n",
        "plt.style.use(['seaborn-whitegrid'])"
      ],
      "execution_count": 116,
      "outputs": []
    },
    {
      "cell_type": "code",
      "metadata": {
        "id": "1YRJRPy6hTe0"
      },
      "source": [
        "from sklearn.svm import SVR, SVC\n",
        "from sklearn.datasets import load_boston, load_diabetes\n",
        "from sklearn.datasets import load_breast_cancer, load_iris, load_wine\n",
        "from sklearn.pipeline import make_pipeline, Pipeline\n",
        "from sklearn.model_selection import train_test_split, cross_validate, GridSearchCV\n",
        "from sklearn.preprocessing import StandardScaler, MinMaxScaler\n",
        "from sklearn.manifold import TSNE"
      ],
      "execution_count": 117,
      "outputs": []
    },
    {
      "cell_type": "markdown",
      "metadata": {
        "id": "UxS0mPsCh4l0"
      },
      "source": [
        "## SVM을 이용한 회귀 모델과 분류 모델"
      ]
    },
    {
      "cell_type": "markdown",
      "metadata": {
        "id": "NTtcx3p8wtNX"
      },
      "source": [
        "### SVM을 사용한 회귀 모델 (SVR)"
      ]
    },
    {
      "cell_type": "code",
      "metadata": {
        "id": "sCrhSrMf5BqB",
        "colab": {
          "base_uri": "https://localhost:8080/"
        },
        "outputId": "84f1f7f7-33ce-4ee4-af35-1ae1ea85a9a3"
      },
      "source": [
        "X,y = load_boston(return_X_y=True)\n",
        "X_train, X_test, y_train, y_test = train_test_split(X,y, random_state = 123)\n",
        "\n",
        "model = SVR()\n",
        "model.fit(X_train, y_train)\n",
        "\n",
        "print(\"학습 데이터 점수 : {}\".format(model.score(X_train, y_train)))\n",
        "print(\"평가 데이터 점수 : {}\".format(model.score(X_test, y_test)))"
      ],
      "execution_count": 118,
      "outputs": [
        {
          "output_type": "stream",
          "name": "stdout",
          "text": [
            "학습 데이터 점수 : 0.2177283706374875\n",
            "평가 데이터 점수 : 0.13544178468518187\n"
          ]
        },
        {
          "output_type": "stream",
          "name": "stderr",
          "text": [
            "/usr/local/lib/python3.8/dist-packages/sklearn/utils/deprecation.py:87: FutureWarning: Function load_boston is deprecated; `load_boston` is deprecated in 1.0 and will be removed in 1.2.\n",
            "\n",
            "    The Boston housing prices dataset has an ethical problem. You can refer to\n",
            "    the documentation of this function for further details.\n",
            "\n",
            "    The scikit-learn maintainers therefore strongly discourage the use of this\n",
            "    dataset unless the purpose of the code is to study and educate about\n",
            "    ethical issues in data science and machine learning.\n",
            "\n",
            "    In this special case, you can fetch the dataset from the original\n",
            "    source::\n",
            "\n",
            "        import pandas as pd\n",
            "        import numpy as np\n",
            "\n",
            "\n",
            "        data_url = \"http://lib.stat.cmu.edu/datasets/boston\"\n",
            "        raw_df = pd.read_csv(data_url, sep=\"\\s+\", skiprows=22, header=None)\n",
            "        data = np.hstack([raw_df.values[::2, :], raw_df.values[1::2, :2]])\n",
            "        target = raw_df.values[1::2, 2]\n",
            "\n",
            "    Alternative datasets include the California housing dataset (i.e.\n",
            "    :func:`~sklearn.datasets.fetch_california_housing`) and the Ames housing\n",
            "    dataset. You can load the datasets as follows::\n",
            "\n",
            "        from sklearn.datasets import fetch_california_housing\n",
            "        housing = fetch_california_housing()\n",
            "\n",
            "    for the California housing dataset and::\n",
            "\n",
            "        from sklearn.datasets import fetch_openml\n",
            "        housing = fetch_openml(name=\"house_prices\", as_frame=True)\n",
            "\n",
            "    for the Ames housing dataset.\n",
            "    \n",
            "  warnings.warn(msg, category=FutureWarning)\n"
          ]
        }
      ]
    },
    {
      "cell_type": "markdown",
      "metadata": {
        "id": "CQraX6MzwvtE"
      },
      "source": [
        "### SVM을 사용한 분류 모델 (SVC)"
      ]
    },
    {
      "cell_type": "code",
      "metadata": {
        "id": "bnh5fS8gFbtK",
        "colab": {
          "base_uri": "https://localhost:8080/"
        },
        "outputId": "c7ef558b-4b44-402a-aecb-113344fa80fe"
      },
      "source": [
        "X,y = load_breast_cancer(return_X_y=True)\n",
        "X_train, X_test, y_train, y_test = train_test_split(X,y, random_state = 123)\n",
        "\n",
        "model = SVC()\n",
        "model.fit(X_train, y_train)\n",
        "\n",
        "print(\"학습 데이터 점수 : {}\".format(model.score(X_train, y_train)))\n",
        "print(\"평가 데이터 점수 : {}\".format(model.score(X_test, y_test)))"
      ],
      "execution_count": 119,
      "outputs": [
        {
          "output_type": "stream",
          "name": "stdout",
          "text": [
            "학습 데이터 점수 : 0.9014084507042254\n",
            "평가 데이터 점수 : 0.9230769230769231\n"
          ]
        }
      ]
    },
    {
      "cell_type": "markdown",
      "metadata": {
        "id": "zgd_dvKrGeFh"
      },
      "source": [
        "## 커널 기법\n",
        "\n",
        "* 입력 데이터를 고차원 공간에 사상해서 비선형 특징을 학습할 수 있도록 확장하는 방법\n",
        "* scikit-learn에서는 Linear, Polynomial, RBF(Radial Basis Function)등 다양한 커널 기법을 지원\n",
        "\n",
        "![kernel trick](https://scikit-learn.org/stable/_images/sphx_glr_plot_iris_svc_0011.png)"
      ]
    },
    {
      "cell_type": "code",
      "metadata": {
        "id": "Azq1UJtZF8sU",
        "colab": {
          "base_uri": "https://localhost:8080/"
        },
        "outputId": "4c81c16e-f639-432e-ca18-102d35f48719"
      },
      "source": [
        "# SVR - boston data\n",
        "X,y = load_boston(return_X_y = True)\n",
        "X_train, X_test, y_train, y_test = train_test_split(X,y,random_state = 123)"
      ],
      "execution_count": 120,
      "outputs": [
        {
          "output_type": "stream",
          "name": "stderr",
          "text": [
            "/usr/local/lib/python3.8/dist-packages/sklearn/utils/deprecation.py:87: FutureWarning: Function load_boston is deprecated; `load_boston` is deprecated in 1.0 and will be removed in 1.2.\n",
            "\n",
            "    The Boston housing prices dataset has an ethical problem. You can refer to\n",
            "    the documentation of this function for further details.\n",
            "\n",
            "    The scikit-learn maintainers therefore strongly discourage the use of this\n",
            "    dataset unless the purpose of the code is to study and educate about\n",
            "    ethical issues in data science and machine learning.\n",
            "\n",
            "    In this special case, you can fetch the dataset from the original\n",
            "    source::\n",
            "\n",
            "        import pandas as pd\n",
            "        import numpy as np\n",
            "\n",
            "\n",
            "        data_url = \"http://lib.stat.cmu.edu/datasets/boston\"\n",
            "        raw_df = pd.read_csv(data_url, sep=\"\\s+\", skiprows=22, header=None)\n",
            "        data = np.hstack([raw_df.values[::2, :], raw_df.values[1::2, :2]])\n",
            "        target = raw_df.values[1::2, 2]\n",
            "\n",
            "    Alternative datasets include the California housing dataset (i.e.\n",
            "    :func:`~sklearn.datasets.fetch_california_housing`) and the Ames housing\n",
            "    dataset. You can load the datasets as follows::\n",
            "\n",
            "        from sklearn.datasets import fetch_california_housing\n",
            "        housing = fetch_california_housing()\n",
            "\n",
            "    for the California housing dataset and::\n",
            "\n",
            "        from sklearn.datasets import fetch_openml\n",
            "        housing = fetch_openml(name=\"house_prices\", as_frame=True)\n",
            "\n",
            "    for the Ames housing dataset.\n",
            "    \n",
            "  warnings.warn(msg, category=FutureWarning)\n"
          ]
        }
      ]
    },
    {
      "cell_type": "code",
      "source": [
        "# 선형 회귀\n",
        "linear_svr = SVR(kernel = 'linear')\n",
        "linear_svr.fit(X_train, y_train)\n",
        "\n",
        "print(\"Linear SVR 학습 데이터 점수 : {}\".format(linear_svr.score(X_train, y_train)))\n",
        "print(\"Linear SVR 평가 데이터 점수 : {}\".format(linear_svr.score(X_test, y_test)))\n",
        "\n",
        "print(\"-\"*60)\n",
        "\n",
        "# 다항 회귀\n",
        "linear_svr = SVR(kernel = 'poly')\n",
        "linear_svr.fit(X_train, y_train)\n",
        "\n",
        "print(\"Polynomial SVR 학습 데이터 점수 : {}\".format(linear_svr.score(X_train, y_train)))\n",
        "print(\"Polynomial SVR 평가 데이터 점수 : {}\".format(linear_svr.score(X_test, y_test)))\n",
        "\n",
        "print(\"-\"*60)\n",
        "\n",
        "# rbf 회귀\n",
        "linear_svr = SVR(kernel = 'rbf')\n",
        "linear_svr.fit(X_train, y_train)\n",
        "\n",
        "print(\"RBF SVR 학습 데이터 점수 : {}\".format(linear_svr.score(X_train, y_train)))\n",
        "print(\"RBF SVR 평가 데이터 점수 : {}\".format(linear_svr.score(X_test, y_test)))"
      ],
      "metadata": {
        "colab": {
          "base_uri": "https://localhost:8080/"
        },
        "id": "SZfvPegXSf2z",
        "outputId": "0c4fb685-c7b2-45dd-b58e-343cd3207810"
      },
      "execution_count": 121,
      "outputs": [
        {
          "output_type": "stream",
          "name": "stdout",
          "text": [
            "Linear SVR 학습 데이터 점수 : 0.715506620496448\n",
            "Linear SVR 평가 데이터 점수 : 0.6380398541506058\n",
            "------------------------------------------------------------\n",
            "Polynomial SVR 학습 데이터 점수 : 0.2024454261446289\n",
            "Polynomial SVR 평가 데이터 점수 : 0.133668450367462\n",
            "------------------------------------------------------------\n",
            "RBF SVR 학습 데이터 점수 : 0.2177283706374875\n",
            "RBF SVR 평가 데이터 점수 : 0.13544178468518187\n"
          ]
        }
      ]
    },
    {
      "cell_type": "code",
      "source": [
        "# SVC - breast cancer data\n",
        "X,y = load_breast_cancer(return_X_y = True)\n",
        "X_train, X_test, y_train, y_test = train_test_split(X,y,random_state = 123)"
      ],
      "metadata": {
        "id": "fdldc_VMTO3P"
      },
      "execution_count": 122,
      "outputs": []
    },
    {
      "cell_type": "code",
      "metadata": {
        "id": "KuvRIzarJO0H",
        "colab": {
          "base_uri": "https://localhost:8080/"
        },
        "outputId": "1f264431-c88c-4433-ae94-b531370cdd48"
      },
      "source": [
        "# 선형 분류\n",
        "linear_svr = SVC(kernel = 'linear')\n",
        "linear_svr.fit(X_train, y_train)\n",
        "\n",
        "print(\"Linear SVC 학습 데이터 점수 : {}\".format(linear_svr.score(X_train, y_train)))\n",
        "print(\"Linear SVC 평가 데이터 점수 : {}\".format(linear_svr.score(X_test, y_test)))\n",
        "\n",
        "print(\"-\"*60)\n",
        "\n",
        "# 다항 분류\n",
        "linear_svr = SVC(kernel = 'poly')\n",
        "linear_svr.fit(X_train, y_train)\n",
        "\n",
        "print(\"Polynomial SVC 학습 데이터 점수 : {}\".format(linear_svr.score(X_train, y_train)))\n",
        "print(\"Polynomial SVC 평가 데이터 점수 : {}\".format(linear_svr.score(X_test, y_test)))\n",
        "\n",
        "print(\"-\"*60)\n",
        "\n",
        "# rbf 분류\n",
        "linear_svr = SVC(kernel = 'rbf')\n",
        "linear_svr.fit(X_train, y_train)\n",
        "\n",
        "print(\"RBF SVC 학습 데이터 점수 : {}\".format(linear_svr.score(X_train, y_train)))\n",
        "print(\"RBF SVC 평가 데이터 점수 : {}\".format(linear_svr.score(X_test, y_test)))"
      ],
      "execution_count": 123,
      "outputs": [
        {
          "output_type": "stream",
          "name": "stdout",
          "text": [
            "Linear SVC 학습 데이터 점수 : 0.960093896713615\n",
            "Linear SVC 평가 데이터 점수 : 0.986013986013986\n",
            "------------------------------------------------------------\n",
            "Polynomial SVC 학습 데이터 점수 : 0.9014084507042254\n",
            "Polynomial SVC 평가 데이터 점수 : 0.9230769230769231\n",
            "------------------------------------------------------------\n",
            "RBF SVC 학습 데이터 점수 : 0.9014084507042254\n",
            "RBF SVC 평가 데이터 점수 : 0.9230769230769231\n"
          ]
        }
      ]
    },
    {
      "cell_type": "markdown",
      "metadata": {
        "id": "ysbUu5o3Lm2V"
      },
      "source": [
        "## 매개변수 튜닝\n",
        "\n",
        "* SVM은 사용하는 커널에 따라 다양한 매개변수 설정 가능\n",
        "* 매개변수를 변경하면서 성능변화를 관찰"
      ]
    },
    {
      "cell_type": "code",
      "metadata": {
        "id": "JyCxM4abOZyO"
      },
      "source": [
        "X,y = load_breast_cancer(return_X_y = True)\n",
        "X_train, X_test, y_train, y_test = train_test_split(X,y,random_state = 123)"
      ],
      "execution_count": 124,
      "outputs": []
    },
    {
      "cell_type": "code",
      "metadata": {
        "id": "QN4BSxiaJspb",
        "colab": {
          "base_uri": "https://localhost:8080/"
        },
        "outputId": "1d70b7b1-53b3-4e65-b596-1d3535e33121"
      },
      "source": [
        "# polynomial parameter 변경\n",
        "linear_svr = SVC(kernel = 'poly', degree = 2, C=0.1, gamma = 'auto') # degree default = 3\n",
        "linear_svr.fit(X_train, y_train)\n",
        "\n",
        "print(\"kernel = poly, degree = {}, c = {}, gamma = {}\".format(2,0.1,'auto'))\n",
        "print(\"Polynomial SVC 학습 데이터 점수 : {}\".format(linear_svr.score(X_train, y_train)))\n",
        "print(\"Polynomial SVC 평가 데이터 점수 : {}\".format(linear_svr.score(X_test, y_test)))"
      ],
      "execution_count": 125,
      "outputs": [
        {
          "output_type": "stream",
          "name": "stdout",
          "text": [
            "kernel = poly, degree = 2, c = 0.1, gamma = auto\n",
            "Polynomial SVC 학습 데이터 점수 : 0.9835680751173709\n",
            "Polynomial SVC 평가 데이터 점수 : 0.993006993006993\n"
          ]
        }
      ]
    },
    {
      "cell_type": "code",
      "metadata": {
        "id": "P7hOhO1oOvVC",
        "colab": {
          "base_uri": "https://localhost:8080/"
        },
        "outputId": "7979b8af-2949-4dd4-fc66-f8075d8ccc9d"
      },
      "source": [
        "# rbf parameter 변경\n",
        "linear_svr = SVC(kernel = 'rbf', C = 2.0, gamma = 'scale')\n",
        "linear_svr.fit(X_train, y_train)\n",
        "\n",
        "print(\"kernel = rbf, c = {}, gamma = {}\".format(1.5,'scale'))\n",
        "print(\"RBF SVC 학습 데이터 점수 : {}\".format(linear_svr.score(X_train, y_train)))\n",
        "print(\"RBF SVC 평가 데이터 점수 : {}\".format(linear_svr.score(X_test, y_test)))"
      ],
      "execution_count": 126,
      "outputs": [
        {
          "output_type": "stream",
          "name": "stdout",
          "text": [
            "kernel = rbf, c = 1.5, gamma = scale\n",
            "RBF SVC 학습 데이터 점수 : 0.9154929577464789\n",
            "RBF SVC 평가 데이터 점수 : 0.9370629370629371\n"
          ]
        }
      ]
    },
    {
      "cell_type": "markdown",
      "metadata": {
        "id": "aEQL8h8WU0An"
      },
      "source": [
        "## 데이터 전처리\n",
        "\n",
        "* SVM은 입력 데이터가 정규화 되어야 좋은 성능을 보임\n",
        "* 주로 모든 특성 값을 [0, 1] 범위로 맞추는 방법을 사용\n",
        "* scikit-learn의 StandardScaler 또는 MinMaxScaler를 사용해 정규화"
      ]
    },
    {
      "cell_type": "code",
      "metadata": {
        "id": "RujhqUOsVU73"
      },
      "source": [
        "# 전처리 전 데이터\n",
        "X,y = load_breast_cancer(return_X_y = True)\n",
        "X_train, X_test, y_train, y_test = train_test_split(X,y,random_state = 123)"
      ],
      "execution_count": 127,
      "outputs": []
    },
    {
      "cell_type": "code",
      "metadata": {
        "id": "DWau9A6UWds4",
        "colab": {
          "base_uri": "https://localhost:8080/"
        },
        "outputId": "3ad09acb-9668-4b11-cfab-bf4c1c06e2ff"
      },
      "source": [
        "# 모델 학습 및 평가\n",
        "model = SVC()\n",
        "model.fit(X_train, y_train)\n",
        "\n",
        "print(\"SVC 학습 데이터 점수 : {}\".format(model.score(X_train, y_train)))\n",
        "print(\"SVC 평가 데이터 점수 : {}\".format(model.score(X_test, y_test)))"
      ],
      "execution_count": 128,
      "outputs": [
        {
          "output_type": "stream",
          "name": "stdout",
          "text": [
            "SVC 학습 데이터 점수 : 0.9014084507042254\n",
            "SVC 평가 데이터 점수 : 0.9230769230769231\n"
          ]
        }
      ]
    },
    {
      "cell_type": "code",
      "metadata": {
        "id": "y_ScHENS0ssY"
      },
      "source": [
        "# 데이터 전처리\n",
        "scaler = StandardScaler()\n",
        "X_train = scaler.fit_transform(X_train)\n",
        "X_test = scaler.transform(X_test)"
      ],
      "execution_count": 129,
      "outputs": []
    },
    {
      "cell_type": "code",
      "metadata": {
        "id": "R2_4R6JE0ssi",
        "colab": {
          "base_uri": "https://localhost:8080/"
        },
        "outputId": "5e6f797b-6f34-49fe-b112-1d791fd8c6c3"
      },
      "source": [
        "# 데이터 전처리 후 모델평가\n",
        "model = SVC()\n",
        "model.fit(X_train, y_train)\n",
        "\n",
        "print(\"SVC 학습 데이터 점수 : {}\".format(model.score(X_train, y_train)))\n",
        "print(\"SVC 평가 데이터 점수 : {}\".format(model.score(X_test, y_test)))"
      ],
      "execution_count": 130,
      "outputs": [
        {
          "output_type": "stream",
          "name": "stdout",
          "text": [
            "SVC 학습 데이터 점수 : 0.9835680751173709\n",
            "SVC 평가 데이터 점수 : 0.986013986013986\n"
          ]
        }
      ]
    },
    {
      "cell_type": "code",
      "metadata": {
        "id": "_EVkj33WVQOu"
      },
      "source": [
        "# 데이터 전처리2\n",
        "scaler = MinMaxScaler()\n",
        "X_train = scaler.fit_transform(X_train)\n",
        "X_test = scaler.transform(X_test)"
      ],
      "execution_count": 131,
      "outputs": []
    },
    {
      "cell_type": "code",
      "metadata": {
        "id": "D7Kj3q_bVmeN",
        "colab": {
          "base_uri": "https://localhost:8080/"
        },
        "outputId": "4229a255-84fe-4bb8-9f03-dc4b7d3711d1"
      },
      "source": [
        "# 데이터 전처리 후 모델평가\n",
        "model = SVC()\n",
        "model.fit(X_train, y_train)\n",
        "\n",
        "print(\"SVC 학습 데이터 점수 : {}\".format(model.score(X_train, y_train)))\n",
        "print(\"SVC 평가 데이터 점수 : {}\".format(model.score(X_test, y_test)))"
      ],
      "execution_count": 132,
      "outputs": [
        {
          "output_type": "stream",
          "name": "stdout",
          "text": [
            "SVC 학습 데이터 점수 : 0.9812206572769953\n",
            "SVC 평가 데이터 점수 : 0.986013986013986\n"
          ]
        }
      ]
    },
    {
      "cell_type": "markdown",
      "metadata": {
        "id": "zLjtZC7gYr7R"
      },
      "source": [
        "## Linear SVR"
      ]
    },
    {
      "cell_type": "markdown",
      "metadata": {
        "id": "tbZicmjAZBZp"
      },
      "source": [
        "### 보스턴 주택 가격"
      ]
    },
    {
      "cell_type": "code",
      "metadata": {
        "id": "X39InXCSYuPf",
        "colab": {
          "base_uri": "https://localhost:8080/"
        },
        "outputId": "5e6d354e-a203-44a2-de5c-430b38028c97"
      },
      "source": [
        "X,y = load_boston(return_X_y = True)\n",
        "X_train, X_test, y_train, y_test = train_test_split(X,y, test_size = 0.2)"
      ],
      "execution_count": 133,
      "outputs": [
        {
          "output_type": "stream",
          "name": "stderr",
          "text": [
            "/usr/local/lib/python3.8/dist-packages/sklearn/utils/deprecation.py:87: FutureWarning: Function load_boston is deprecated; `load_boston` is deprecated in 1.0 and will be removed in 1.2.\n",
            "\n",
            "    The Boston housing prices dataset has an ethical problem. You can refer to\n",
            "    the documentation of this function for further details.\n",
            "\n",
            "    The scikit-learn maintainers therefore strongly discourage the use of this\n",
            "    dataset unless the purpose of the code is to study and educate about\n",
            "    ethical issues in data science and machine learning.\n",
            "\n",
            "    In this special case, you can fetch the dataset from the original\n",
            "    source::\n",
            "\n",
            "        import pandas as pd\n",
            "        import numpy as np\n",
            "\n",
            "\n",
            "        data_url = \"http://lib.stat.cmu.edu/datasets/boston\"\n",
            "        raw_df = pd.read_csv(data_url, sep=\"\\s+\", skiprows=22, header=None)\n",
            "        data = np.hstack([raw_df.values[::2, :], raw_df.values[1::2, :2]])\n",
            "        target = raw_df.values[1::2, 2]\n",
            "\n",
            "    Alternative datasets include the California housing dataset (i.e.\n",
            "    :func:`~sklearn.datasets.fetch_california_housing`) and the Ames housing\n",
            "    dataset. You can load the datasets as follows::\n",
            "\n",
            "        from sklearn.datasets import fetch_california_housing\n",
            "        housing = fetch_california_housing()\n",
            "\n",
            "    for the California housing dataset and::\n",
            "\n",
            "        from sklearn.datasets import fetch_openml\n",
            "        housing = fetch_openml(name=\"house_prices\", as_frame=True)\n",
            "\n",
            "    for the Ames housing dataset.\n",
            "    \n",
            "  warnings.warn(msg, category=FutureWarning)\n"
          ]
        }
      ]
    },
    {
      "cell_type": "code",
      "metadata": {
        "id": "I1TKwSKhdLaU"
      },
      "source": [
        "scaler = StandardScaler()\n",
        "scaler.fit(X_train)\n",
        "X_train = scaler.fit_transform(X_train)\n",
        "X_test = scaler.transform(X_test)"
      ],
      "execution_count": 134,
      "outputs": []
    },
    {
      "cell_type": "code",
      "metadata": {
        "id": "deIvkeKRZqTU",
        "colab": {
          "base_uri": "https://localhost:8080/"
        },
        "outputId": "9092a7a0-8394-4f7d-f699-1e0342773c1e"
      },
      "source": [
        "model = SVR(kernel = 'linear')\n",
        "model.fit(X_train, y_train)"
      ],
      "execution_count": 135,
      "outputs": [
        {
          "output_type": "execute_result",
          "data": {
            "text/plain": [
              "SVR(kernel='linear')"
            ]
          },
          "metadata": {},
          "execution_count": 135
        }
      ]
    },
    {
      "cell_type": "code",
      "metadata": {
        "id": "zEknoMb5aRBt",
        "colab": {
          "base_uri": "https://localhost:8080/"
        },
        "outputId": "de672ff5-6888-467e-b025-0ab5844f1d3d"
      },
      "source": [
        "print(\"학습 데이터 점수 : {}\".format(model.score(X_train, y_train)))\n",
        "print(\"평가 데이터 점수 : {}\".format(model.score(X_test, y_test)))"
      ],
      "execution_count": 136,
      "outputs": [
        {
          "output_type": "stream",
          "name": "stdout",
          "text": [
            "학습 데이터 점수 : 0.7135585870273986\n",
            "평가 데이터 점수 : 0.6291338528835118\n"
          ]
        }
      ]
    },
    {
      "cell_type": "code",
      "metadata": {
        "id": "S3ipWjbFiete",
        "colab": {
          "base_uri": "https://localhost:8080/",
          "height": 333
        },
        "outputId": "8728f8b8-74a2-440e-fa03-30a4a5e26f41"
      },
      "source": [
        "X_comp = TSNE(n_components = 1).fit_transform(X)\n",
        "plt.scatter(X_comp, y);"
      ],
      "execution_count": 137,
      "outputs": [
        {
          "output_type": "stream",
          "name": "stderr",
          "text": [
            "/usr/local/lib/python3.8/dist-packages/sklearn/manifold/_t_sne.py:780: FutureWarning: The default initialization in TSNE will change from 'random' to 'pca' in 1.2.\n",
            "  warnings.warn(\n",
            "/usr/local/lib/python3.8/dist-packages/sklearn/manifold/_t_sne.py:790: FutureWarning: The default learning rate in TSNE will change from 200.0 to 'auto' in 1.2.\n",
            "  warnings.warn(\n"
          ]
        },
        {
          "output_type": "display_data",
          "data": {
            "text/plain": [
              "<Figure size 432x288 with 1 Axes>"
            ],
            "image/png": "[encoded data removed]"
          },
          "metadata": {}
        }
      ]
    },
    {
      "cell_type": "code",
      "metadata": {
        "id": "IqLc69hojcIr",
        "colab": {
          "base_uri": "https://localhost:8080/",
          "height": 280
        },
        "outputId": "d09b3471-b813-4c26-82ce-043d926f54e2"
      },
      "source": [
        "model.fit(X_comp,y)\n",
        "predict = model.predict(X_comp)\n",
        "plt.scatter(X_comp, y)\n",
        "plt.scatter(X_comp, predict, color = 'r')"
      ],
      "execution_count": 138,
      "outputs": [
        {
          "output_type": "execute_result",
          "data": {
            "text/plain": [
              "<matplotlib.collections.PathCollection at 0x7fdd038f1dc0>"
            ]
          },
          "metadata": {},
          "execution_count": 138
        },
        {
          "output_type": "display_data",
          "data": {
            "text/plain": [
              "<Figure size 432x288 with 1 Axes>"
            ],
            "image/png": "[encoded data removed]"
          },
          "metadata": {}
        }
      ]
    },
    {
      "cell_type": "code",
      "metadata": {
        "id": "YzGeXLmZbGY7",
        "colab": {
          "base_uri": "https://localhost:8080/"
        },
        "outputId": "f97a233b-150a-4fa4-d675-c60c0a701921"
      },
      "source": [
        "# cv 검증을 통한 최적 파라미터 검출\n",
        "estimator = make_pipeline(StandardScaler(), SVR(kernel = 'linear'))\n",
        "cross_validate(\n",
        "  estimator = estimator,\n",
        "  X=X, y=y,\n",
        "  cv = 5,\n",
        "  n_jobs = multiprocessing.cpu_count(),\n",
        "  verbose = True)"
      ],
      "execution_count": 139,
      "outputs": [
        {
          "output_type": "stream",
          "name": "stderr",
          "text": [
            "[Parallel(n_jobs=2)]: Using backend LokyBackend with 2 concurrent workers.\n",
            "[Parallel(n_jobs=2)]: Done   5 out of   5 | elapsed:    0.7s finished\n"
          ]
        },
        {
          "output_type": "execute_result",
          "data": {
            "text/plain": [
              "{'fit_time': array([0.01915002, 0.01952982, 0.01731205, 0.01748586, 0.01121998]),\n",
              " 'score_time': array([0.0022378 , 0.00226307, 0.00207138, 0.0022037 , 0.00114965]),\n",
              " 'test_score': array([0.76908568, 0.72180141, 0.56428426, 0.14083339, 0.07810211])}"
            ]
          },
          "metadata": {},
          "execution_count": 139
        }
      ]
    },
    {
      "cell_type": "code",
      "source": [
        "pipe = Pipeline([('scaler', StandardScaler()),\n",
        "                 ('model', SVR(kernel = 'linear'))])\n",
        "\n",
        "param_grid = [{'model__gamma':['scale','auto'],\n",
        "               'model__C':[1.0,0.1,0.01],\n",
        "               'model__epsilon':[1.0,0.1,0.01]}]\n",
        "\n",
        "gs = GridSearchCV(\n",
        "    estimator = pipe,\n",
        "    param_grid = param_grid,\n",
        "    n_jobs = multiprocessing.cpu_count(),\n",
        "    cv=5,\n",
        "    verbose=True\n",
        ")\n",
        "\n",
        "gs.fit(X,y)"
      ],
      "metadata": {
        "colab": {
          "base_uri": "https://localhost:8080/"
        },
        "id": "8fbziEe5cD46",
        "outputId": "6c2df767-c3ec-4604-b8e2-40ca27a9a741"
      },
      "execution_count": 140,
      "outputs": [
        {
          "output_type": "stream",
          "name": "stdout",
          "text": [
            "Fitting 5 folds for each of 18 candidates, totalling 90 fits\n"
          ]
        },
        {
          "output_type": "execute_result",
          "data": {
            "text/plain": [
              "GridSearchCV(cv=5,\n",
              "             estimator=Pipeline(steps=[('scaler', StandardScaler()),\n",
              "                                       ('model', SVR(kernel='linear'))]),\n",
              "             n_jobs=2,\n",
              "             param_grid=[{'model__C': [1.0, 0.1, 0.01],\n",
              "                          'model__epsilon': [1.0, 0.1, 0.01],\n",
              "                          'model__gamma': ['scale', 'auto']}],\n",
              "             verbose=True)"
            ]
          },
          "metadata": {},
          "execution_count": 140
        }
      ]
    },
    {
      "cell_type": "code",
      "metadata": {
        "id": "G1BG0w50iUNF",
        "colab": {
          "base_uri": "https://localhost:8080/"
        },
        "outputId": "ce488e47-b520-419a-f947-60c229e419fa"
      },
      "source": [
        "# 최적 파라미터 확인\n",
        "gs.best_estimator_"
      ],
      "execution_count": 141,
      "outputs": [
        {
          "output_type": "execute_result",
          "data": {
            "text/plain": [
              "Pipeline(steps=[('scaler', StandardScaler()),\n",
              "                ('model', SVR(C=0.1, epsilon=1.0, kernel='linear'))])"
            ]
          },
          "metadata": {},
          "execution_count": 141
        }
      ]
    },
    {
      "cell_type": "markdown",
      "metadata": {
        "id": "Tlmsj9sHlB_i"
      },
      "source": [
        "### 당뇨병"
      ]
    },
    {
      "cell_type": "code",
      "metadata": {
        "id": "YqsONZZDefAo"
      },
      "source": [
        "X,y = load_diabetes(return_X_y = True)\n",
        "X_train, X_test, y_train, y_test = train_test_split(X,y, test_size = 0.2)"
      ],
      "execution_count": 142,
      "outputs": []
    },
    {
      "cell_type": "code",
      "metadata": {
        "id": "GXMFcgdjefAo"
      },
      "source": [
        "scaler = StandardScaler()\n",
        "scaler.fit(X_train)\n",
        "X_train = scaler.fit_transform(X_train)\n",
        "X_test = scaler.transform(X_test)"
      ],
      "execution_count": 143,
      "outputs": []
    },
    {
      "cell_type": "code",
      "metadata": {
        "colab": {
          "base_uri": "https://localhost:8080/"
        },
        "outputId": "64028da9-4e4b-47b0-986a-803dde499b7f",
        "id": "JliwPmEmefAp"
      },
      "source": [
        "model = SVR(kernel = 'linear')\n",
        "model.fit(X_train, y_train)"
      ],
      "execution_count": 144,
      "outputs": [
        {
          "output_type": "execute_result",
          "data": {
            "text/plain": [
              "SVR(kernel='linear')"
            ]
          },
          "metadata": {},
          "execution_count": 144
        }
      ]
    },
    {
      "cell_type": "code",
      "metadata": {
        "colab": {
          "base_uri": "https://localhost:8080/"
        },
        "outputId": "d58dde6e-19e0-4b73-c978-09faed3b1130",
        "id": "1_kamlIAefAp"
      },
      "source": [
        "print(\"학습 데이터 점수 : {}\".format(model.score(X_train, y_train)))\n",
        "print(\"평가 데이터 점수 : {}\".format(model.score(X_test, y_test)))"
      ],
      "execution_count": 145,
      "outputs": [
        {
          "output_type": "stream",
          "name": "stdout",
          "text": [
            "학습 데이터 점수 : 0.5233481875940225\n",
            "평가 데이터 점수 : 0.44186538522564434\n"
          ]
        }
      ]
    },
    {
      "cell_type": "code",
      "metadata": {
        "colab": {
          "base_uri": "https://localhost:8080/",
          "height": 333
        },
        "outputId": "8287b641-1a1b-4ca3-8c4d-1656eb228515",
        "id": "J2GJtUFtefAp"
      },
      "source": [
        "X_comp = TSNE(n_components = 1).fit_transform(X)\n",
        "plt.scatter(X_comp, y);"
      ],
      "execution_count": 146,
      "outputs": [
        {
          "output_type": "stream",
          "name": "stderr",
          "text": [
            "/usr/local/lib/python3.8/dist-packages/sklearn/manifold/_t_sne.py:780: FutureWarning: The default initialization in TSNE will change from 'random' to 'pca' in 1.2.\n",
            "  warnings.warn(\n",
            "/usr/local/lib/python3.8/dist-packages/sklearn/manifold/_t_sne.py:790: FutureWarning: The default learning rate in TSNE will change from 200.0 to 'auto' in 1.2.\n",
            "  warnings.warn(\n"
          ]
        },
        {
          "output_type": "display_data",
          "data": {
            "text/plain": [
              "<Figure size 432x288 with 1 Axes>"
            ],
            "image/png": "[encoded data removed]"
          },
          "metadata": {}
        }
      ]
    },
    {
      "cell_type": "code",
      "metadata": {
        "colab": {
          "base_uri": "https://localhost:8080/",
          "height": 280
        },
        "outputId": "cca85635-4ec2-49e5-fb48-2db3ab3ca237",
        "id": "xmZtDV47efAp"
      },
      "source": [
        "model.fit(X_comp,y)\n",
        "predict = model.predict(X_comp)\n",
        "plt.scatter(X_comp, y)\n",
        "plt.scatter(X_comp, predict, color = 'r')"
      ],
      "execution_count": 147,
      "outputs": [
        {
          "output_type": "execute_result",
          "data": {
            "text/plain": [
              "<matplotlib.collections.PathCollection at 0x7fdd037b42b0>"
            ]
          },
          "metadata": {},
          "execution_count": 147
        },
        {
          "output_type": "display_data",
          "data": {
            "text/plain": [
              "<Figure size 432x288 with 1 Axes>"
            ],
            "image/png": "[encoded data removed]"
          },
          "metadata": {}
        }
      ]
    },
    {
      "cell_type": "code",
      "metadata": {
        "colab": {
          "base_uri": "https://localhost:8080/"
        },
        "outputId": "309ab028-3e81-49dd-a8d4-46ee4a4c9e81",
        "id": "BS8k2VVZefAp"
      },
      "source": [
        "# cv 검증을 통한 최적 파라미터 검출\n",
        "estimator = make_pipeline(StandardScaler(), SVR(kernel = 'linear'))\n",
        "cross_validate(\n",
        "  estimator = estimator,\n",
        "  X=X, y=y,\n",
        "  cv = 5,\n",
        "  n_jobs = multiprocessing.cpu_count(),\n",
        "  verbose = True)"
      ],
      "execution_count": 148,
      "outputs": [
        {
          "output_type": "stream",
          "name": "stderr",
          "text": [
            "[Parallel(n_jobs=2)]: Using backend LokyBackend with 2 concurrent workers.\n",
            "[Parallel(n_jobs=2)]: Done   5 out of   5 | elapsed:    0.0s finished\n"
          ]
        },
        {
          "output_type": "execute_result",
          "data": {
            "text/plain": [
              "{'fit_time': array([0.01130676, 0.01271629, 0.00923538, 0.01080132, 0.00743461]),\n",
              " 'score_time': array([0.00169492, 0.00179553, 0.00174356, 0.00176311, 0.00096536]),\n",
              " 'test_score': array([0.43037242, 0.51653341, 0.48275332, 0.42247202, 0.53076481])}"
            ]
          },
          "metadata": {},
          "execution_count": 148
        }
      ]
    },
    {
      "cell_type": "code",
      "source": [
        "pipe = Pipeline([('scaler', StandardScaler()),\n",
        "                 ('model', SVR(kernel = 'linear'))])\n",
        "\n",
        "param_grid = [{'model__gamma':['scale','auto'],\n",
        "               'model__C':[1.0,0.1,0.01],\n",
        "               'model__epsilon':[1.0,0.1,0.01]}]\n",
        "\n",
        "gs = GridSearchCV(\n",
        "    estimator = pipe,\n",
        "    param_grid = param_grid,\n",
        "    n_jobs = multiprocessing.cpu_count(),\n",
        "    cv=5,\n",
        "    verbose=True\n",
        ")\n",
        "\n",
        "gs.fit(X,y)"
      ],
      "metadata": {
        "colab": {
          "base_uri": "https://localhost:8080/"
        },
        "outputId": "19d0ad2c-8754-4251-889c-21e54a363858",
        "id": "fQRWZXzDefAp"
      },
      "execution_count": 149,
      "outputs": [
        {
          "output_type": "stream",
          "name": "stdout",
          "text": [
            "Fitting 5 folds for each of 18 candidates, totalling 90 fits\n"
          ]
        },
        {
          "output_type": "execute_result",
          "data": {
            "text/plain": [
              "GridSearchCV(cv=5,\n",
              "             estimator=Pipeline(steps=[('scaler', StandardScaler()),\n",
              "                                       ('model', SVR(kernel='linear'))]),\n",
              "             n_jobs=2,\n",
              "             param_grid=[{'model__C': [1.0, 0.1, 0.01],\n",
              "                          'model__epsilon': [1.0, 0.1, 0.01],\n",
              "                          'model__gamma': ['scale', 'auto']}],\n",
              "             verbose=True)"
            ]
          },
          "metadata": {},
          "execution_count": 149
        }
      ]
    },
    {
      "cell_type": "code",
      "metadata": {
        "colab": {
          "base_uri": "https://localhost:8080/"
        },
        "outputId": "82f3d2cc-fd56-4e9b-d73e-bf2fbbf5ef6f",
        "id": "eTH2UQdOefAq"
      },
      "source": [
        "# 최적 파라미터 확인\n",
        "gs.best_estimator_"
      ],
      "execution_count": 150,
      "outputs": [
        {
          "output_type": "execute_result",
          "data": {
            "text/plain": [
              "Pipeline(steps=[('scaler', StandardScaler()),\n",
              "                ('model', SVR(epsilon=1.0, kernel='linear'))])"
            ]
          },
          "metadata": {},
          "execution_count": 150
        }
      ]
    },
    {
      "cell_type": "markdown",
      "metadata": {
        "id": "4d3ZxGT-rzSF"
      },
      "source": [
        "## Kernel SVR"
      ]
    },
    {
      "cell_type": "markdown",
      "metadata": {
        "id": "sJ4hf_LMr6i4"
      },
      "source": [
        "### 보스턴 주택 가격"
      ]
    },
    {
      "cell_type": "code",
      "metadata": {
        "colab": {
          "base_uri": "https://localhost:8080/"
        },
        "id": "wx-nIlBLgwFy",
        "outputId": "1ce6ef09-ac24-456a-8c66-704c50660c2e"
      },
      "source": [
        "X,y = load_boston(return_X_y = True)\n",
        "X_train, X_test, y_train, y_test = train_test_split(X,y, test_size = 0.2)"
      ],
      "execution_count": 151,
      "outputs": [
        {
          "output_type": "stream",
          "name": "stderr",
          "text": [
            "/usr/local/lib/python3.8/dist-packages/sklearn/utils/deprecation.py:87: FutureWarning: Function load_boston is deprecated; `load_boston` is deprecated in 1.0 and will be removed in 1.2.\n",
            "\n",
            "    The Boston housing prices dataset has an ethical problem. You can refer to\n",
            "    the documentation of this function for further details.\n",
            "\n",
            "    The scikit-learn maintainers therefore strongly discourage the use of this\n",
            "    dataset unless the purpose of the code is to study and educate about\n",
            "    ethical issues in data science and machine learning.\n",
            "\n",
            "    In this special case, you can fetch the dataset from the original\n",
            "    source::\n",
            "\n",
            "        import pandas as pd\n",
            "        import numpy as np\n",
            "\n",
            "\n",
            "        data_url = \"http://lib.stat.cmu.edu/datasets/boston\"\n",
            "        raw_df = pd.read_csv(data_url, sep=\"\\s+\", skiprows=22, header=None)\n",
            "        data = np.hstack([raw_df.values[::2, :], raw_df.values[1::2, :2]])\n",
            "        target = raw_df.values[1::2, 2]\n",
            "\n",
            "    Alternative datasets include the California housing dataset (i.e.\n",
            "    :func:`~sklearn.datasets.fetch_california_housing`) and the Ames housing\n",
            "    dataset. You can load the datasets as follows::\n",
            "\n",
            "        from sklearn.datasets import fetch_california_housing\n",
            "        housing = fetch_california_housing()\n",
            "\n",
            "    for the California housing dataset and::\n",
            "\n",
            "        from sklearn.datasets import fetch_openml\n",
            "        housing = fetch_openml(name=\"house_prices\", as_frame=True)\n",
            "\n",
            "    for the Ames housing dataset.\n",
            "    \n",
            "  warnings.warn(msg, category=FutureWarning)\n"
          ]
        }
      ]
    },
    {
      "cell_type": "code",
      "metadata": {
        "id": "mWsbpMQkgwFy"
      },
      "source": [
        "scaler = StandardScaler()\n",
        "scaler.fit(X_train)\n",
        "X_train = scaler.fit_transform(X_train)\n",
        "X_test = scaler.transform(X_test)"
      ],
      "execution_count": 152,
      "outputs": []
    },
    {
      "cell_type": "code",
      "metadata": {
        "colab": {
          "base_uri": "https://localhost:8080/"
        },
        "outputId": "9293f7e9-5a99-4b97-9f6d-0f597261e98b",
        "id": "xPgoukthgwFy"
      },
      "source": [
        "model = SVR(kernel = 'rbf')\n",
        "model.fit(X_train, y_train)"
      ],
      "execution_count": 153,
      "outputs": [
        {
          "output_type": "execute_result",
          "data": {
            "text/plain": [
              "SVR()"
            ]
          },
          "metadata": {},
          "execution_count": 153
        }
      ]
    },
    {
      "cell_type": "code",
      "metadata": {
        "colab": {
          "base_uri": "https://localhost:8080/"
        },
        "outputId": "0bb3582c-df3b-4dbf-e645-5036da3ebada",
        "id": "3vh_clLDgwFy"
      },
      "source": [
        "print(\"학습 데이터 점수 : {}\".format(model.score(X_train, y_train)))\n",
        "print(\"평가 데이터 점수 : {}\".format(model.score(X_test, y_test)))"
      ],
      "execution_count": 154,
      "outputs": [
        {
          "output_type": "stream",
          "name": "stdout",
          "text": [
            "학습 데이터 점수 : 0.6418187164660527\n",
            "평가 데이터 점수 : 0.6663122060013467\n"
          ]
        }
      ]
    },
    {
      "cell_type": "code",
      "metadata": {
        "colab": {
          "base_uri": "https://localhost:8080/",
          "height": 333
        },
        "outputId": "16b8e57c-1a2e-40b0-d8d2-382d34c4c595",
        "id": "9LpPFzTGgwFy"
      },
      "source": [
        "X_comp = TSNE(n_components = 1).fit_transform(X)\n",
        "plt.scatter(X_comp, y);"
      ],
      "execution_count": 155,
      "outputs": [
        {
          "output_type": "stream",
          "name": "stderr",
          "text": [
            "/usr/local/lib/python3.8/dist-packages/sklearn/manifold/_t_sne.py:780: FutureWarning: The default initialization in TSNE will change from 'random' to 'pca' in 1.2.\n",
            "  warnings.warn(\n",
            "/usr/local/lib/python3.8/dist-packages/sklearn/manifold/_t_sne.py:790: FutureWarning: The default learning rate in TSNE will change from 200.0 to 'auto' in 1.2.\n",
            "  warnings.warn(\n"
          ]
        },
        {
          "output_type": "display_data",
          "data": {
            "text/plain": [
              "<Figure size 432x288 with 1 Axes>"
            ],
            "image/png": "[encoded data removed]"
          },
          "metadata": {}
        }
      ]
    },
    {
      "cell_type": "code",
      "metadata": {
        "colab": {
          "base_uri": "https://localhost:8080/",
          "height": 280
        },
        "outputId": "d78ba38c-810d-46fa-e99a-70b86641ee36",
        "id": "n3aG_en9gwFy"
      },
      "source": [
        "model.fit(X_comp,y)\n",
        "predict = model.predict(X_comp)\n",
        "plt.scatter(X_comp, y)\n",
        "plt.scatter(X_comp, predict, color = 'r')"
      ],
      "execution_count": 156,
      "outputs": [
        {
          "output_type": "execute_result",
          "data": {
            "text/plain": [
              "<matplotlib.collections.PathCollection at 0x7fdd036eb730>"
            ]
          },
          "metadata": {},
          "execution_count": 156
        },
        {
          "output_type": "display_data",
          "data": {
            "text/plain": [
              "<Figure size 432x288 with 1 Axes>"
            ],
            "image/png": "[encoded data removed]"
          },
          "metadata": {}
        }
      ]
    },
    {
      "cell_type": "code",
      "metadata": {
        "colab": {
          "base_uri": "https://localhost:8080/"
        },
        "outputId": "90b4d92e-7462-469c-c8c8-59664f58bb2b",
        "id": "4DRsVWFTgwFz"
      },
      "source": [
        "# cv 검증을 통한 최적 파라미터 검출\n",
        "estimator = make_pipeline(StandardScaler(), SVR(kernel = 'rbf'))\n",
        "cross_validate(\n",
        "  estimator = estimator,\n",
        "  X=X, y=y,\n",
        "  cv = 5,\n",
        "  n_jobs = multiprocessing.cpu_count(),\n",
        "  verbose = True)"
      ],
      "execution_count": 157,
      "outputs": [
        {
          "output_type": "stream",
          "name": "stderr",
          "text": [
            "[Parallel(n_jobs=2)]: Using backend LokyBackend with 2 concurrent workers.\n",
            "[Parallel(n_jobs=2)]: Done   5 out of   5 | elapsed:    0.1s finished\n"
          ]
        },
        {
          "output_type": "execute_result",
          "data": {
            "text/plain": [
              "{'fit_time': array([0.0156126 , 0.01868892, 0.02071834, 0.01726985, 0.01054955]),\n",
              " 'score_time': array([0.00384593, 0.004071  , 0.00396347, 0.00410676, 0.00264573]),\n",
              " 'test_score': array([ 0.75781445,  0.50211018,  0.04310107,  0.33851703, -0.75997942])}"
            ]
          },
          "metadata": {},
          "execution_count": 157
        }
      ]
    },
    {
      "cell_type": "code",
      "source": [
        "pipe = Pipeline([('scaler', StandardScaler()),\n",
        "                 ('model', SVR(kernel = 'rbf'))])\n",
        "\n",
        "param_grid = [{'model__kernel' : ['rbf','poly','sigmoid'],\n",
        "               'model__gamma' : ['scale','auto'],\n",
        "               'model__C' : [1.0,0.1,0.01],\n",
        "               'model__epsilon' : [1.0,0.1,0.01]}]\n",
        "\n",
        "gs = GridSearchCV(\n",
        "    estimator = pipe,\n",
        "    param_grid = param_grid,\n",
        "    n_jobs = multiprocessing.cpu_count(),\n",
        "    cv=5,\n",
        "    verbose=True\n",
        ")\n",
        "\n",
        "gs.fit(X,y)"
      ],
      "metadata": {
        "colab": {
          "base_uri": "https://localhost:8080/"
        },
        "outputId": "772244c5-a3f2-4e4b-8d4c-93a3acce0e70",
        "id": "NUA50seHgwFz"
      },
      "execution_count": 158,
      "outputs": [
        {
          "output_type": "stream",
          "name": "stdout",
          "text": [
            "Fitting 5 folds for each of 54 candidates, totalling 270 fits\n"
          ]
        },
        {
          "output_type": "execute_result",
          "data": {
            "text/plain": [
              "GridSearchCV(cv=5,\n",
              "             estimator=Pipeline(steps=[('scaler', StandardScaler()),\n",
              "                                       ('model', SVR())]),\n",
              "             n_jobs=2,\n",
              "             param_grid=[{'model__C': [1.0, 0.1, 0.01],\n",
              "                          'model__epsilon': [1.0, 0.1, 0.01],\n",
              "                          'model__gamma': ['scale', 'auto'],\n",
              "                          'model__kernel': ['rbf', 'poly', 'sigmoid']}],\n",
              "             verbose=True)"
            ]
          },
          "metadata": {},
          "execution_count": 158
        }
      ]
    },
    {
      "cell_type": "code",
      "metadata": {
        "colab": {
          "base_uri": "https://localhost:8080/"
        },
        "outputId": "12bea6d0-9338-47bf-861f-5e8bfc1eea36",
        "id": "Aj_o2HPtgwFz"
      },
      "source": [
        "# 최적 파라미터 확인\n",
        "gs.best_estimator_"
      ],
      "execution_count": 159,
      "outputs": [
        {
          "output_type": "execute_result",
          "data": {
            "text/plain": [
              "Pipeline(steps=[('scaler', StandardScaler()),\n",
              "                ('model',\n",
              "                 SVR(C=0.1, epsilon=0.01, gamma='auto', kernel='sigmoid'))])"
            ]
          },
          "metadata": {},
          "execution_count": 159
        }
      ]
    },
    {
      "cell_type": "markdown",
      "metadata": {
        "id": "WjmIL-u1r9qU"
      },
      "source": [
        "### 당뇨병"
      ]
    },
    {
      "cell_type": "code",
      "metadata": {
        "id": "WEhq-1XQkWXI"
      },
      "source": [
        "X,y = load_diabetes(return_X_y = True)\n",
        "X_train, X_test, y_train, y_test = train_test_split(X,y, test_size = 0.2)"
      ],
      "execution_count": 160,
      "outputs": []
    },
    {
      "cell_type": "code",
      "metadata": {
        "id": "_A-UaNX6kWXI"
      },
      "source": [
        "scaler = StandardScaler()\n",
        "scaler.fit(X_train)\n",
        "X_train = scaler.fit_transform(X_train)\n",
        "X_test = scaler.transform(X_test)"
      ],
      "execution_count": 161,
      "outputs": []
    },
    {
      "cell_type": "code",
      "metadata": {
        "colab": {
          "base_uri": "https://localhost:8080/"
        },
        "outputId": "07a34215-5c26-4a62-d91b-c7372196ce1e",
        "id": "2uy_8qRDkWXI"
      },
      "source": [
        "model = SVR(kernel = 'rbf')\n",
        "model.fit(X_train, y_train)"
      ],
      "execution_count": 162,
      "outputs": [
        {
          "output_type": "execute_result",
          "data": {
            "text/plain": [
              "SVR()"
            ]
          },
          "metadata": {},
          "execution_count": 162
        }
      ]
    },
    {
      "cell_type": "code",
      "metadata": {
        "colab": {
          "base_uri": "https://localhost:8080/"
        },
        "outputId": "ae7ace62-54d8-4b7b-a999-148b1243c416",
        "id": "QOw4E4HpkWXJ"
      },
      "source": [
        "print(\"학습 데이터 점수 : {}\".format(model.score(X_train, y_train)))\n",
        "print(\"평가 데이터 점수 : {}\".format(model.score(X_test, y_test)))"
      ],
      "execution_count": 163,
      "outputs": [
        {
          "output_type": "stream",
          "name": "stdout",
          "text": [
            "학습 데이터 점수 : 0.18001520303435625\n",
            "평가 데이터 점수 : 0.1665241253946006\n"
          ]
        }
      ]
    },
    {
      "cell_type": "code",
      "metadata": {
        "colab": {
          "base_uri": "https://localhost:8080/",
          "height": 333
        },
        "outputId": "4bda86bd-42a7-4df9-97cc-ce4832eb4661",
        "id": "xfpwluuwkWXJ"
      },
      "source": [
        "X_comp = TSNE(n_components = 1).fit_transform(X)\n",
        "plt.scatter(X_comp, y);"
      ],
      "execution_count": 164,
      "outputs": [
        {
          "output_type": "stream",
          "name": "stderr",
          "text": [
            "/usr/local/lib/python3.8/dist-packages/sklearn/manifold/_t_sne.py:780: FutureWarning: The default initialization in TSNE will change from 'random' to 'pca' in 1.2.\n",
            "  warnings.warn(\n",
            "/usr/local/lib/python3.8/dist-packages/sklearn/manifold/_t_sne.py:790: FutureWarning: The default learning rate in TSNE will change from 200.0 to 'auto' in 1.2.\n",
            "  warnings.warn(\n"
          ]
        },
        {
          "output_type": "display_data",
          "data": {
            "text/plain": [
              "<Figure size 432x288 with 1 Axes>"
            ],
            "image/png": "[encoded data removed]"
          },
          "metadata": {}
        }
      ]
    },
    {
      "cell_type": "code",
      "metadata": {
        "colab": {
          "base_uri": "https://localhost:8080/",
          "height": 280
        },
        "outputId": "69739813-ef75-43a0-a554-7ef4f9078851",
        "id": "VLniXBdckWXJ"
      },
      "source": [
        "model.fit(X_comp,y)\n",
        "predict = model.predict(X_comp)\n",
        "plt.scatter(X_comp, y)\n",
        "plt.scatter(X_comp, predict, color = 'r')"
      ],
      "execution_count": 165,
      "outputs": [
        {
          "output_type": "execute_result",
          "data": {
            "text/plain": [
              "<matplotlib.collections.PathCollection at 0x7fdd03625a90>"
            ]
          },
          "metadata": {},
          "execution_count": 165
        },
        {
          "output_type": "display_data",
          "data": {
            "text/plain": [
              "<Figure size 432x288 with 1 Axes>"
            ],
            "image/png": "[encoded data removed]"
          },
          "metadata": {}
        }
      ]
    },
    {
      "cell_type": "code",
      "metadata": {
        "colab": {
          "base_uri": "https://localhost:8080/"
        },
        "outputId": "2268138a-c7b6-468e-9554-eeda0c03f924",
        "id": "f5KxFxcfkWXJ"
      },
      "source": [
        "# cv 검증을 통한 최적 파라미터 검출\n",
        "estimator = make_pipeline(StandardScaler(), SVR(kernel = 'rbf'))\n",
        "cross_validate(\n",
        "  estimator = estimator,\n",
        "  X=X, y=y,\n",
        "  cv = 5,\n",
        "  n_jobs = multiprocessing.cpu_count(),\n",
        "  verbose = True)"
      ],
      "execution_count": 166,
      "outputs": [
        {
          "output_type": "stream",
          "name": "stderr",
          "text": [
            "[Parallel(n_jobs=2)]: Using backend LokyBackend with 2 concurrent workers.\n",
            "[Parallel(n_jobs=2)]: Done   5 out of   5 | elapsed:    0.1s finished\n"
          ]
        },
        {
          "output_type": "execute_result",
          "data": {
            "text/plain": [
              "{'fit_time': array([0.02328897, 0.01812625, 0.01325893, 0.01293063, 0.01010299]),\n",
              " 'score_time': array([0.00458026, 0.0033567 , 0.00318241, 0.0031755 , 0.00211382]),\n",
              " 'test_score': array([0.14580789, 0.12539919, 0.18163816, 0.12223073, 0.15792085])}"
            ]
          },
          "metadata": {},
          "execution_count": 166
        }
      ]
    },
    {
      "cell_type": "code",
      "source": [
        "pipe = Pipeline([('scaler', StandardScaler()),\n",
        "                 ('model', SVR(kernel = 'rbf'))])\n",
        "\n",
        "param_grid = [{'model__kernel' : ['rbf','poly','sigmoid'],\n",
        "               'model__gamma' : ['scale','auto'],\n",
        "               'model__C' : [1.0,0.1,0.01],\n",
        "               'model__epsilon' : [1.0,0.1,0.01]}]\n",
        "\n",
        "gs = GridSearchCV(\n",
        "    estimator = pipe,\n",
        "    param_grid = param_grid,\n",
        "    n_jobs = multiprocessing.cpu_count(),\n",
        "    cv=5,\n",
        "    verbose=True\n",
        ")\n",
        "\n",
        "gs.fit(X,y)"
      ],
      "metadata": {
        "colab": {
          "base_uri": "https://localhost:8080/"
        },
        "outputId": "051ea1e6-d496-4835-a74a-6a5a97d192f2",
        "id": "0nj3tx0UkWXJ"
      },
      "execution_count": 167,
      "outputs": [
        {
          "output_type": "stream",
          "name": "stdout",
          "text": [
            "Fitting 5 folds for each of 3 candidates, totalling 15 fits\n"
          ]
        },
        {
          "output_type": "execute_result",
          "data": {
            "text/plain": [
              "GridSearchCV(cv=5,\n",
              "             estimator=Pipeline(steps=[('scaler', StandardScaler()),\n",
              "                                       ('model', SVR())]),\n",
              "             n_jobs=2,\n",
              "             param_grid=[{'model__kernel': ['rbf', 'poly', 'sigmoid']}],\n",
              "             verbose=True)"
            ]
          },
          "metadata": {},
          "execution_count": 167
        }
      ]
    },
    {
      "cell_type": "code",
      "metadata": {
        "colab": {
          "base_uri": "https://localhost:8080/"
        },
        "outputId": "11ef1453-66e7-48a2-d4c2-faa1828b4344",
        "id": "cX1bKrQwkWXJ"
      },
      "source": [
        "# 최적 파라미터 확인\n",
        "gs.best_estimator_"
      ],
      "execution_count": 168,
      "outputs": [
        {
          "output_type": "execute_result",
          "data": {
            "text/plain": [
              "Pipeline(steps=[('scaler', StandardScaler()), ('model', SVR(kernel='sigmoid'))])"
            ]
          },
          "metadata": {},
          "execution_count": 168
        }
      ]
    },
    {
      "cell_type": "code",
      "metadata": {
        "id": "UlnjMwqOI1_0",
        "colab": {
          "base_uri": "https://localhost:8080/"
        },
        "outputId": "f2bd3bff-fce2-4e6f-ec92-bd95f0b1df5f"
      },
      "source": [
        "pipe = Pipeline([('scaler', StandardScaler()),\n",
        "                 ('model', SVR(kernel = 'sigmoid'))])\n",
        "\n",
        "param_grid = [{'model__gamma' : ['scale','auto'],\n",
        "               'model__C' : [1.0,0.1,0.01],\n",
        "               'model__epsilon' : [1.0,0.1,0.01]}]\n",
        "\n",
        "gs = GridSearchCV(\n",
        "    estimator = pipe,\n",
        "    param_grid = param_grid,\n",
        "    n_jobs = multiprocessing.cpu_count(),\n",
        "    cv=5,\n",
        "    verbose=True\n",
        ")\n",
        "\n",
        "gs.fit(X,y)"
      ],
      "execution_count": 169,
      "outputs": [
        {
          "output_type": "stream",
          "name": "stdout",
          "text": [
            "Fitting 5 folds for each of 18 candidates, totalling 90 fits\n"
          ]
        },
        {
          "output_type": "execute_result",
          "data": {
            "text/plain": [
              "GridSearchCV(cv=5,\n",
              "             estimator=Pipeline(steps=[('scaler', StandardScaler()),\n",
              "                                       ('model', SVR(kernel='sigmoid'))]),\n",
              "             n_jobs=2,\n",
              "             param_grid=[{'model__C': [1.0, 0.1, 0.01],\n",
              "                          'model__epsilon': [1.0, 0.1, 0.01],\n",
              "                          'model__gamma': ['scale', 'auto']}],\n",
              "             verbose=True)"
            ]
          },
          "metadata": {},
          "execution_count": 169
        }
      ]
    },
    {
      "cell_type": "code",
      "metadata": {
        "id": "AmFCvtJlI99z",
        "colab": {
          "base_uri": "https://localhost:8080/"
        },
        "outputId": "68b35072-4330-48db-a216-5d9da511d0e4"
      },
      "source": [
        "# 최적 파라미터 확인\n",
        "gs.best_estimator_"
      ],
      "execution_count": 170,
      "outputs": [
        {
          "output_type": "execute_result",
          "data": {
            "text/plain": [
              "Pipeline(steps=[('scaler', StandardScaler()),\n",
              "                ('model', SVR(epsilon=1.0, gamma='auto', kernel='sigmoid'))])"
            ]
          },
          "metadata": {},
          "execution_count": 170
        }
      ]
    },
    {
      "cell_type": "code",
      "metadata": {
        "id": "vT1lWiqFK8dd",
        "colab": {
          "base_uri": "https://localhost:8080/"
        },
        "outputId": "8f8ccd2a-50d9-423f-e666-74a23f42b9fa"
      },
      "source": [
        "model = gs.best_estimator_\n",
        "model.fit(X_train, y_train)"
      ],
      "execution_count": 171,
      "outputs": [
        {
          "output_type": "execute_result",
          "data": {
            "text/plain": [
              "Pipeline(steps=[('scaler', StandardScaler()),\n",
              "                ('model', SVR(epsilon=1.0, gamma='auto', kernel='sigmoid'))])"
            ]
          },
          "metadata": {},
          "execution_count": 171
        }
      ]
    },
    {
      "cell_type": "code",
      "metadata": {
        "id": "vbi19fstK0cl",
        "colab": {
          "base_uri": "https://localhost:8080/"
        },
        "outputId": "022b593b-7656-4743-daa7-144114ddb426"
      },
      "source": [
        "print(\"학습 데이터 점수 : {}\".format(model.score(X_train, y_train)))\n",
        "print(\"평가 데이터 점수 : {}\".format(model.score(X_test, y_test)))"
      ],
      "execution_count": 172,
      "outputs": [
        {
          "output_type": "stream",
          "name": "stdout",
          "text": [
            "학습 데이터 점수 : 0.38814526593733867\n",
            "평가 데이터 점수 : 0.3673043562647125\n"
          ]
        }
      ]
    },
    {
      "cell_type": "markdown",
      "metadata": {
        "id": "iW0DXTLrNya-"
      },
      "source": [
        "## Linear SVC"
      ]
    },
    {
      "cell_type": "markdown",
      "metadata": {
        "id": "1b30IAFxN8XR"
      },
      "source": [
        "### 유방암"
      ]
    },
    {
      "cell_type": "code",
      "metadata": {
        "id": "9sNqiC92r959"
      },
      "source": [
        "X,y = load_breast_cancer(return_X_y = True)\n",
        "X_train, X_test, y_train, y_test = train_test_split(X,y, test_size = 0.2)"
      ],
      "execution_count": 173,
      "outputs": []
    },
    {
      "cell_type": "code",
      "metadata": {
        "id": "OdX5z_ZXr959"
      },
      "source": [
        "scaler = StandardScaler()\n",
        "scaler.fit(X_train)\n",
        "X_train = scaler.fit_transform(X_train)\n",
        "X_test = scaler.transform(X_test)"
      ],
      "execution_count": 174,
      "outputs": []
    },
    {
      "cell_type": "code",
      "metadata": {
        "colab": {
          "base_uri": "https://localhost:8080/"
        },
        "outputId": "2ed5ba84-3f5d-46ca-91c7-cced5cd728f3",
        "id": "MNY79SCer959"
      },
      "source": [
        "model = SVC(kernel = 'linear'). # linear SVC\n",
        "model.fit(X_train, y_train)"
      ],
      "execution_count": 175,
      "outputs": [
        {
          "output_type": "execute_result",
          "data": {
            "text/plain": [
              "SVC(kernel='linear')"
            ]
          },
          "metadata": {},
          "execution_count": 175
        }
      ]
    },
    {
      "cell_type": "code",
      "metadata": {
        "colab": {
          "base_uri": "https://localhost:8080/"
        },
        "outputId": "0db87da3-b69c-4014-dd72-531907166425",
        "id": "ZMn95ybyr959"
      },
      "source": [
        "print(\"학습 데이터 점수 : {}\".format(model.score(X_train, y_train)))\n",
        "print(\"평가 데이터 점수 : {}\".format(model.score(X_test, y_test)))"
      ],
      "execution_count": 176,
      "outputs": [
        {
          "output_type": "stream",
          "name": "stdout",
          "text": [
            "학습 데이터 점수 : 0.989010989010989\n",
            "평가 데이터 점수 : 0.9736842105263158\n"
          ]
        }
      ]
    },
    {
      "cell_type": "code",
      "source": [
        "def make_meshgrid(x,y,h = 0.02):\n",
        "  x_min, x_max = x.min()-1, x.max() + 1\n",
        "  y_min, y_max = y.min()-1, y.max() + 1\n",
        "  xx,yy = np.meshgrid(np.arange(x_min, x_max,h),\n",
        "                      np.arange(y_min, y_max,h))\n",
        "  \n",
        "  return xx,yy\n",
        "\n",
        "\n",
        "def plot_contours(clf, xx,yy,**params):\n",
        "  Z = clf.predict(np.c_[xx.ravel(),yy.ravel()])\n",
        "  Z = Z.reshape(xx.shape)\n",
        "  out = plt.contourf(xx,yy,Z, **params)\n",
        "\n",
        "  return out"
      ],
      "metadata": {
        "id": "k1rYPflLsUp0"
      },
      "execution_count": 177,
      "outputs": []
    },
    {
      "cell_type": "code",
      "metadata": {
        "id": "ebWesv5Dr95-"
      },
      "source": [
        "X_comp = TSNE(n_components = 2).fit_transform(X)\n",
        "X0,X1 = X_comp[:,0], X_comp[:,1]\n",
        "xx,yy = make_meshgrid(X0,X1)"
      ],
      "execution_count": null,
      "outputs": []
    },
    {
      "cell_type": "code",
      "metadata": {
        "colab": {
          "base_uri": "https://localhost:8080/",
          "height": 280
        },
        "outputId": "042f0cd3-af84-44c9-ce6c-3b42b1ff1f09",
        "id": "vSPn2KExr95-"
      },
      "source": [
        "model.fit(X_comp,y)\n",
        "\n",
        "plot_contours(model, xx,yy, cmap = plt.cm.coolwarm, alpha = 0.7)\n",
        "plt.scatter(X0,X1, c=y, cmap = plt.cm.coolwarm, s = 20, edgecolors = 'k');"
      ],
      "execution_count": 184,
      "outputs": [
        {
          "output_type": "execute_result",
          "data": {
            "text/plain": [
              "<matplotlib.collections.PathCollection at 0x7fdd0343e130>"
            ]
          },
          "metadata": {},
          "execution_count": 184
        },
        {
          "output_type": "display_data",
          "data": {
            "text/plain": [
              "<Figure size 432x288 with 1 Axes>"
            ],
            "image/png": "[encoded data removed]"
          },
          "metadata": {}
        }
      ]
    },
    {
      "cell_type": "code",
      "metadata": {
        "colab": {
          "base_uri": "https://localhost:8080/"
        },
        "outputId": "4aefb2d0-5fb9-4595-febd-2cb9b7e4ea8a",
        "id": "3nCj7rBrr95-"
      },
      "source": [
        "# cv 검증을 통한 최적 파라미터 검출\n",
        "estimator = make_pipeline(StandardScaler(), SVR(kernel = 'linear'))\n",
        "cross_validate(\n",
        "  estimator = estimator,\n",
        "  X=X, y=y,\n",
        "  cv = 5,\n",
        "  n_jobs = multiprocessing.cpu_count(),\n",
        "  verbose = True)"
      ],
      "execution_count": 185,
      "outputs": [
        {
          "output_type": "stream",
          "name": "stderr",
          "text": [
            "[Parallel(n_jobs=2)]: Using backend LokyBackend with 2 concurrent workers.\n",
            "[Parallel(n_jobs=2)]: Done   5 out of   5 | elapsed:    2.0s finished\n"
          ]
        },
        {
          "output_type": "execute_result",
          "data": {
            "text/plain": [
              "{'fit_time': array([0.50676489, 0.57000542, 0.23305821, 0.20111847, 0.1190927 ]),\n",
              " 'score_time': array([0.00254917, 0.00251651, 0.00258851, 0.00250626, 0.0014298 ]),\n",
              " 'test_score': array([0.60344367, 0.66391728, 0.74997599, 0.78640276, 0.70282083])}"
            ]
          },
          "metadata": {},
          "execution_count": 185
        }
      ]
    },
    {
      "cell_type": "code",
      "metadata": {
        "colab": {
          "base_uri": "https://localhost:8080/"
        },
        "outputId": "61f65961-eea0-4ce7-a584-54fe441117ad",
        "id": "2ygzRp_kr95-"
      },
      "source": [
        "pipe = Pipeline([('scaler', StandardScaler()),\n",
        "                 ('model', SVC(kernel = 'linear'))])\n",
        "\n",
        "param_grid = [{'model__gamma' : ['scale','auto'],\n",
        "               'model__C' : [1.0,0.1,0.01]}]\n",
        "\n",
        "gs = GridSearchCV(\n",
        "    estimator = pipe,\n",
        "    param_grid = param_grid,\n",
        "    n_jobs = multiprocessing.cpu_count(),\n",
        "    cv=5,\n",
        "    verbose=True\n",
        ")\n",
        "\n",
        "gs.fit(X,y)"
      ],
      "execution_count": 189,
      "outputs": [
        {
          "output_type": "stream",
          "name": "stdout",
          "text": [
            "Fitting 5 folds for each of 6 candidates, totalling 30 fits\n"
          ]
        },
        {
          "output_type": "execute_result",
          "data": {
            "text/plain": [
              "GridSearchCV(cv=5,\n",
              "             estimator=Pipeline(steps=[('scaler', StandardScaler()),\n",
              "                                       ('model', SVC(kernel='linear'))]),\n",
              "             n_jobs=2,\n",
              "             param_grid=[{'model__C': [1.0, 0.1, 0.01],\n",
              "                          'model__gamma': ['scale', 'auto']}],\n",
              "             verbose=True)"
            ]
          },
          "metadata": {},
          "execution_count": 189
        }
      ]
    },
    {
      "cell_type": "code",
      "metadata": {
        "colab": {
          "base_uri": "https://localhost:8080/"
        },
        "outputId": "615dd3ed-d07a-493c-e681-fd770d9c495a",
        "id": "AC_sE7zMr95-"
      },
      "source": [
        "# 최적 파라미터 확인\n",
        "gs.best_estimator_"
      ],
      "execution_count": 190,
      "outputs": [
        {
          "output_type": "execute_result",
          "data": {
            "text/plain": [
              "Pipeline(steps=[('scaler', StandardScaler()),\n",
              "                ('model', SVC(C=0.1, kernel='linear'))])"
            ]
          },
          "metadata": {},
          "execution_count": 190
        }
      ]
    },
    {
      "cell_type": "markdown",
      "metadata": {
        "id": "jJfcIODbN6ec"
      },
      "source": [
        "### 붓꽃"
      ]
    },
    {
      "cell_type": "code",
      "metadata": {
        "id": "JdF2n-F-uwfY"
      },
      "source": [
        "X,y = load_iris(return_X_y = True)\n",
        "X_train, X_test, y_train, y_test = train_test_split(X,y, test_size = 0.2)"
      ],
      "execution_count": 191,
      "outputs": []
    },
    {
      "cell_type": "code",
      "metadata": {
        "id": "cCx6VU1fuwfZ"
      },
      "source": [
        "scaler = StandardScaler()\n",
        "scaler.fit(X_train)\n",
        "X_train = scaler.fit_transform(X_train)\n",
        "X_test = scaler.transform(X_test)"
      ],
      "execution_count": 192,
      "outputs": []
    },
    {
      "cell_type": "code",
      "metadata": {
        "colab": {
          "base_uri": "https://localhost:8080/"
        },
        "outputId": "a5a6538a-6391-47d5-eb56-9a09644d7866",
        "id": "SYwW0OlduwfZ"
      },
      "source": [
        "model = SVC(kernel = 'linear')\n",
        "model.fit(X_train, y_train)"
      ],
      "execution_count": 193,
      "outputs": [
        {
          "output_type": "execute_result",
          "data": {
            "text/plain": [
              "SVC(kernel='linear')"
            ]
          },
          "metadata": {},
          "execution_count": 193
        }
      ]
    },
    {
      "cell_type": "code",
      "metadata": {
        "colab": {
          "base_uri": "https://localhost:8080/"
        },
        "outputId": "89df3860-0731-4048-c006-c933417d46c4",
        "id": "zpYg0wrfuwfZ"
      },
      "source": [
        "print(\"학습 데이터 점수 : {}\".format(model.score(X_train, y_train)))\n",
        "print(\"평가 데이터 점수 : {}\".format(model.score(X_test, y_test)))"
      ],
      "execution_count": 194,
      "outputs": [
        {
          "output_type": "stream",
          "name": "stdout",
          "text": [
            "학습 데이터 점수 : 0.9833333333333333\n",
            "평가 데이터 점수 : 1.0\n"
          ]
        }
      ]
    },
    {
      "cell_type": "code",
      "metadata": {
        "colab": {
          "base_uri": "https://localhost:8080/"
        },
        "id": "XQvNztYduwfZ",
        "outputId": "5c081d60-d55f-4a9c-8dc3-1b9dfe4d3431"
      },
      "source": [
        "X_comp = TSNE(n_components = 2).fit_transform(X)\n",
        "X0,X1 = X_comp[:,0], X_comp[:,1]\n",
        "xx,yy = make_meshgrid(X0,X1)"
      ],
      "execution_count": 196,
      "outputs": [
        {
          "output_type": "stream",
          "name": "stderr",
          "text": [
            "/usr/local/lib/python3.8/dist-packages/sklearn/manifold/_t_sne.py:780: FutureWarning: The default initialization in TSNE will change from 'random' to 'pca' in 1.2.\n",
            "  warnings.warn(\n",
            "/usr/local/lib/python3.8/dist-packages/sklearn/manifold/_t_sne.py:790: FutureWarning: The default learning rate in TSNE will change from 200.0 to 'auto' in 1.2.\n",
            "  warnings.warn(\n"
          ]
        }
      ]
    },
    {
      "cell_type": "code",
      "metadata": {
        "colab": {
          "base_uri": "https://localhost:8080/",
          "height": 262
        },
        "outputId": "c9322f00-0b4e-40a5-d2c9-013281528a52",
        "id": "0O1EsSm9uwfZ"
      },
      "source": [
        "model.fit(X_comp,y)\n",
        "\n",
        "plot_contours(model, xx,yy, cmap = plt.cm.coolwarm, alpha = 0.7)\n",
        "plt.scatter(X0,X1, c=y, cmap = plt.cm.coolwarm, s = 20, edgecolors = 'k');"
      ],
      "execution_count": 197,
      "outputs": [
        {
          "output_type": "display_data",
          "data": {
            "text/plain": [
              "<Figure size 432x288 with 1 Axes>"
            ],
            "image/png": "[encoded data removed]"
          },
          "metadata": {}
        }
      ]
    },
    {
      "cell_type": "code",
      "metadata": {
        "colab": {
          "base_uri": "https://localhost:8080/"
        },
        "outputId": "92e03539-1dcf-41e6-eeed-49dee367351c",
        "id": "gG1MTYjMuwfZ"
      },
      "source": [
        "# cv 검증을 통한 최적 파라미터 검출\n",
        "estimator = make_pipeline(StandardScaler(), SVR(kernel = 'linear'))\n",
        "cross_validate(\n",
        "  estimator = estimator,\n",
        "  X=X, y=y,\n",
        "  cv = 5,\n",
        "  n_jobs = multiprocessing.cpu_count(),\n",
        "  verbose = True)"
      ],
      "execution_count": 198,
      "outputs": [
        {
          "output_type": "stream",
          "name": "stderr",
          "text": [
            "[Parallel(n_jobs=2)]: Using backend LokyBackend with 2 concurrent workers.\n",
            "[Parallel(n_jobs=2)]: Done   5 out of   5 | elapsed:    0.0s finished\n"
          ]
        },
        {
          "output_type": "execute_result",
          "data": {
            "text/plain": [
              "{'fit_time': array([0.00315714, 0.00328326, 0.00330997, 0.00248051, 0.00184536]),\n",
              " 'score_time': array([0.00070834, 0.00067878, 0.00052476, 0.00068808, 0.00037313]),\n",
              " 'test_score': array([0.        , 0.84602366, 0.        , 0.73206827, 0.        ])}"
            ]
          },
          "metadata": {},
          "execution_count": 198
        }
      ]
    },
    {
      "cell_type": "code",
      "metadata": {
        "colab": {
          "base_uri": "https://localhost:8080/"
        },
        "outputId": "769d3be3-3749-4989-cdc2-9fde71b1cb7f",
        "id": "q8Ont6P1uwfZ"
      },
      "source": [
        "pipe = Pipeline([('scaler', StandardScaler()),\n",
        "                 ('model', SVC(kernel = 'linear'))])\n",
        "\n",
        "param_grid = [{'model__gamma' : ['scale','auto'],\n",
        "               'model__C' : [1.0,0.1,0.01]}]\n",
        "\n",
        "gs = GridSearchCV(\n",
        "    estimator = pipe,\n",
        "    param_grid = param_grid,\n",
        "    n_jobs = multiprocessing.cpu_count(),\n",
        "    cv=5,\n",
        "    verbose=True\n",
        ")\n",
        "\n",
        "gs.fit(X,y)"
      ],
      "execution_count": 199,
      "outputs": [
        {
          "output_type": "stream",
          "name": "stdout",
          "text": [
            "Fitting 5 folds for each of 6 candidates, totalling 30 fits\n"
          ]
        },
        {
          "output_type": "execute_result",
          "data": {
            "text/plain": [
              "GridSearchCV(cv=5,\n",
              "             estimator=Pipeline(steps=[('scaler', StandardScaler()),\n",
              "                                       ('model', SVC(kernel='linear'))]),\n",
              "             n_jobs=2,\n",
              "             param_grid=[{'model__C': [1.0, 0.1, 0.01],\n",
              "                          'model__gamma': ['scale', 'auto']}],\n",
              "             verbose=True)"
            ]
          },
          "metadata": {},
          "execution_count": 199
        }
      ]
    },
    {
      "cell_type": "code",
      "metadata": {
        "colab": {
          "base_uri": "https://localhost:8080/"
        },
        "outputId": "eccec976-8b41-40f4-f5e9-8ada14154e43",
        "id": "fLx9XfXXuwfa"
      },
      "source": [
        "# 최적 파라미터 확인\n",
        "gs.best_estimator_"
      ],
      "execution_count": 200,
      "outputs": [
        {
          "output_type": "execute_result",
          "data": {
            "text/plain": [
              "Pipeline(steps=[('scaler', StandardScaler()), ('model', SVC(kernel='linear'))])"
            ]
          },
          "metadata": {},
          "execution_count": 200
        }
      ]
    },
    {
      "cell_type": "markdown",
      "metadata": {
        "id": "fGErBCXR3P_p"
      },
      "source": [
        "### 와인"
      ]
    },
    {
      "cell_type": "code",
      "metadata": {
        "id": "1rlEBYMavXWj"
      },
      "source": [
        "X,y = load_wine(return_X_y = True)\n",
        "X_train, X_test, y_train, y_test = train_test_split(X,y, test_size = 0.2)"
      ],
      "execution_count": 201,
      "outputs": []
    },
    {
      "cell_type": "code",
      "metadata": {
        "id": "xUFHMjEGvXWk"
      },
      "source": [
        "scaler = StandardScaler()\n",
        "scaler.fit(X_train)\n",
        "X_train = scaler.fit_transform(X_train)\n",
        "X_test = scaler.transform(X_test)"
      ],
      "execution_count": 202,
      "outputs": []
    },
    {
      "cell_type": "code",
      "metadata": {
        "colab": {
          "base_uri": "https://localhost:8080/"
        },
        "outputId": "55e915cd-5393-4b02-e2d8-e2aa11eb5221",
        "id": "k9ukd5O1vXWk"
      },
      "source": [
        "model = SVC(kernel = 'linear')\n",
        "model.fit(X_train, y_train)"
      ],
      "execution_count": 203,
      "outputs": [
        {
          "output_type": "execute_result",
          "data": {
            "text/plain": [
              "SVC(kernel='linear')"
            ]
          },
          "metadata": {},
          "execution_count": 203
        }
      ]
    },
    {
      "cell_type": "code",
      "metadata": {
        "colab": {
          "base_uri": "https://localhost:8080/"
        },
        "outputId": "abe067c3-8b40-44db-d7ba-1218e146a3a0",
        "id": "dfBKi5xsvXWk"
      },
      "source": [
        "print(\"학습 데이터 점수 : {}\".format(model.score(X_train, y_train)))\n",
        "print(\"평가 데이터 점수 : {}\".format(model.score(X_test, y_test)))"
      ],
      "execution_count": 204,
      "outputs": [
        {
          "output_type": "stream",
          "name": "stdout",
          "text": [
            "학습 데이터 점수 : 1.0\n",
            "평가 데이터 점수 : 0.9444444444444444\n"
          ]
        }
      ]
    },
    {
      "cell_type": "code",
      "metadata": {
        "colab": {
          "base_uri": "https://localhost:8080/"
        },
        "id": "Ls2x9XWNvXWk",
        "outputId": "c5c9b458-ee66-434e-93d7-898686516fc4"
      },
      "source": [
        "X_comp = TSNE(n_components = 2).fit_transform(X)\n",
        "X0,X1 = X_comp[:,0], X_comp[:,1]\n",
        "xx,yy = make_meshgrid(X0,X1)"
      ],
      "execution_count": 206,
      "outputs": [
        {
          "output_type": "stream",
          "name": "stderr",
          "text": [
            "/usr/local/lib/python3.8/dist-packages/sklearn/manifold/_t_sne.py:780: FutureWarning: The default initialization in TSNE will change from 'random' to 'pca' in 1.2.\n",
            "  warnings.warn(\n",
            "/usr/local/lib/python3.8/dist-packages/sklearn/manifold/_t_sne.py:790: FutureWarning: The default learning rate in TSNE will change from 200.0 to 'auto' in 1.2.\n",
            "  warnings.warn(\n"
          ]
        }
      ]
    },
    {
      "cell_type": "code",
      "metadata": {
        "colab": {
          "base_uri": "https://localhost:8080/",
          "height": 262
        },
        "outputId": "669a1dbd-0f60-4c8e-879c-75818051ae45",
        "id": "4hLoIXn7vXWk"
      },
      "source": [
        "model.fit(X_comp,y)\n",
        "\n",
        "plot_contours(model, xx,yy, cmap = plt.cm.coolwarm, alpha = 0.7)\n",
        "plt.scatter(X0,X1, c=y, cmap = plt.cm.coolwarm, s = 20, edgecolors = 'k');"
      ],
      "execution_count": 207,
      "outputs": [
        {
          "output_type": "display_data",
          "data": {
            "text/plain": [
              "<Figure size 432x288 with 1 Axes>"
            ],
            "image/png": "[encoded data removed]"
          },
          "metadata": {}
        }
      ]
    },
    {
      "cell_type": "code",
      "metadata": {
        "colab": {
          "base_uri": "https://localhost:8080/"
        },
        "outputId": "3d1dfd93-eaae-4711-95bd-d89625a213f1",
        "id": "6VSB5OAxvXWk"
      },
      "source": [
        "# cv 검증을 통한 최적 파라미터 검출\n",
        "estimator = make_pipeline(StandardScaler(), SVR(kernel = 'linear'))\n",
        "cross_validate(\n",
        "  estimator = estimator,\n",
        "  X=X, y=y,\n",
        "  cv = 5,\n",
        "  n_jobs = multiprocessing.cpu_count(),\n",
        "  verbose = True)"
      ],
      "execution_count": 208,
      "outputs": [
        {
          "output_type": "stream",
          "name": "stderr",
          "text": [
            "[Parallel(n_jobs=2)]: Using backend LokyBackend with 2 concurrent workers.\n",
            "[Parallel(n_jobs=2)]: Done   5 out of   5 | elapsed:    0.0s finished\n"
          ]
        },
        {
          "output_type": "execute_result",
          "data": {
            "text/plain": [
              "{'fit_time': array([0.01582384, 0.01435542, 0.00886631, 0.01091647, 0.00860453]),\n",
              " 'score_time': array([0.00077009, 0.00090432, 0.00060415, 0.00060773, 0.00044227]),\n",
              " 'test_score': array([0.        , 0.47958223, 0.        , 0.3818823 , 0.        ])}"
            ]
          },
          "metadata": {},
          "execution_count": 208
        }
      ]
    },
    {
      "cell_type": "code",
      "metadata": {
        "colab": {
          "base_uri": "https://localhost:8080/"
        },
        "outputId": "4fda1c0e-4be4-4def-f9ca-cfe173b00fab",
        "id": "Dq-Sl_WXvXWl"
      },
      "source": [
        "pipe = Pipeline([('scaler', StandardScaler()),\n",
        "                 ('model', SVC(kernel = 'linear'))])\n",
        "\n",
        "param_grid = [{'model__gamma' : ['scale','auto'],\n",
        "               'model__C' : [1.0,0.1,0.01]}]\n",
        "\n",
        "gs = GridSearchCV(\n",
        "    estimator = pipe,\n",
        "    param_grid = param_grid,\n",
        "    n_jobs = multiprocessing.cpu_count(),\n",
        "    cv=5,\n",
        "    verbose=True\n",
        ")\n",
        "\n",
        "gs.fit(X,y)"
      ],
      "execution_count": 210,
      "outputs": [
        {
          "output_type": "stream",
          "name": "stdout",
          "text": [
            "Fitting 5 folds for each of 6 candidates, totalling 30 fits\n"
          ]
        },
        {
          "output_type": "execute_result",
          "data": {
            "text/plain": [
              "GridSearchCV(cv=5,\n",
              "             estimator=Pipeline(steps=[('scaler', StandardScaler()),\n",
              "                                       ('model', SVC(kernel='linear'))]),\n",
              "             n_jobs=2,\n",
              "             param_grid=[{'model__C': [1.0, 0.1, 0.01],\n",
              "                          'model__gamma': ['scale', 'auto']}],\n",
              "             verbose=True)"
            ]
          },
          "metadata": {},
          "execution_count": 210
        }
      ]
    },
    {
      "cell_type": "code",
      "metadata": {
        "colab": {
          "base_uri": "https://localhost:8080/"
        },
        "outputId": "f5c56abe-179c-4bce-d7c1-3549629a042d",
        "id": "pzeKJLXKvXWl"
      },
      "source": [
        "# 최적 파라미터 확인\n",
        "gs.best_estimator_"
      ],
      "execution_count": 211,
      "outputs": [
        {
          "output_type": "execute_result",
          "data": {
            "text/plain": [
              "Pipeline(steps=[('scaler', StandardScaler()),\n",
              "                ('model', SVC(C=0.1, kernel='linear'))])"
            ]
          },
          "metadata": {},
          "execution_count": 211
        }
      ]
    },
    {
      "cell_type": "markdown",
      "metadata": {
        "id": "NKavNYlxN1fB"
      },
      "source": [
        "## Kernel SVC"
      ]
    },
    {
      "cell_type": "markdown",
      "metadata": {
        "id": "M7QkeGrdOAxV"
      },
      "source": [
        "### 유방암"
      ]
    },
    {
      "cell_type": "code",
      "metadata": {
        "id": "nDHGs5C4wAu6"
      },
      "source": [
        "X,y = load_breast_cancer(return_X_y = True)\n",
        "X_train, X_test, y_train, y_test = train_test_split(X,y, test_size = 0.2)"
      ],
      "execution_count": 212,
      "outputs": []
    },
    {
      "cell_type": "code",
      "metadata": {
        "id": "6p7ych7YwAu6"
      },
      "source": [
        "scaler = StandardScaler()\n",
        "scaler.fit(X_train)\n",
        "X_train = scaler.fit_transform(X_train)\n",
        "X_test = scaler.transform(X_test)"
      ],
      "execution_count": 213,
      "outputs": []
    },
    {
      "cell_type": "code",
      "metadata": {
        "colab": {
          "base_uri": "https://localhost:8080/"
        },
        "outputId": "b67a7656-9582-4244-de2a-4558205b7f8e",
        "id": "SqgGDHmQwAu6"
      },
      "source": [
        "model = SVC(kernel = 'rbf')\n",
        "model.fit(X_train, y_train)"
      ],
      "execution_count": 214,
      "outputs": [
        {
          "output_type": "execute_result",
          "data": {
            "text/plain": [
              "SVC()"
            ]
          },
          "metadata": {},
          "execution_count": 214
        }
      ]
    },
    {
      "cell_type": "code",
      "metadata": {
        "colab": {
          "base_uri": "https://localhost:8080/"
        },
        "outputId": "d9580da7-104b-4bf9-a53d-4742c49f43a5",
        "id": "GNSe1COtwAu7"
      },
      "source": [
        "print(\"학습 데이터 점수 : {}\".format(model.score(X_train, y_train)))\n",
        "print(\"평가 데이터 점수 : {}\".format(model.score(X_test, y_test)))"
      ],
      "execution_count": 215,
      "outputs": [
        {
          "output_type": "stream",
          "name": "stdout",
          "text": [
            "학습 데이터 점수 : 0.9846153846153847\n",
            "평가 데이터 점수 : 0.9824561403508771\n"
          ]
        }
      ]
    },
    {
      "cell_type": "code",
      "metadata": {
        "colab": {
          "base_uri": "https://localhost:8080/"
        },
        "id": "8OQcqKIlwAu7",
        "outputId": "67410a8e-4dc7-4f41-af16-7e50e4220347"
      },
      "source": [
        "X_comp = TSNE(n_components = 2).fit_transform(X)\n",
        "X0,X1 = X_comp[:,0], X_comp[:,1]\n",
        "xx,yy = make_meshgrid(X0,X1)"
      ],
      "execution_count": 216,
      "outputs": [
        {
          "output_type": "stream",
          "name": "stderr",
          "text": [
            "/usr/local/lib/python3.8/dist-packages/sklearn/manifold/_t_sne.py:780: FutureWarning: The default initialization in TSNE will change from 'random' to 'pca' in 1.2.\n",
            "  warnings.warn(\n",
            "/usr/local/lib/python3.8/dist-packages/sklearn/manifold/_t_sne.py:790: FutureWarning: The default learning rate in TSNE will change from 200.0 to 'auto' in 1.2.\n",
            "  warnings.warn(\n"
          ]
        }
      ]
    },
    {
      "cell_type": "code",
      "metadata": {
        "colab": {
          "base_uri": "https://localhost:8080/",
          "height": 262
        },
        "outputId": "11617c24-4996-4da2-f52e-3fb4ddfc9e83",
        "id": "1VdCTtpQwAu7"
      },
      "source": [
        "model.fit(X_comp,y)\n",
        "\n",
        "plot_contours(model, xx,yy, cmap = plt.cm.coolwarm, alpha = 0.7)\n",
        "plt.scatter(X0,X1, c=y, cmap = plt.cm.coolwarm, s = 20, edgecolors = 'k');"
      ],
      "execution_count": 217,
      "outputs": [
        {
          "output_type": "display_data",
          "data": {
            "text/plain": [
              "<Figure size 432x288 with 1 Axes>"
            ],
            "image/png": "[encoded data removed]"
          },
          "metadata": {}
        }
      ]
    },
    {
      "cell_type": "code",
      "metadata": {
        "colab": {
          "base_uri": "https://localhost:8080/"
        },
        "outputId": "18bb95b7-ffb0-413f-d0fb-2d6610b04d36",
        "id": "MkQNkHXZwAu7"
      },
      "source": [
        "# cv 검증을 통한 최적 파라미터 검출\n",
        "estimator = make_pipeline(StandardScaler(), SVR(kernel = 'rbf'))\n",
        "\n",
        "cross_validate(\n",
        "  estimator = estimator,\n",
        "  X=X, y=y,\n",
        "  cv = 5,\n",
        "  n_jobs = multiprocessing.cpu_count(),\n",
        "  verbose = True)"
      ],
      "execution_count": 221,
      "outputs": [
        {
          "output_type": "stream",
          "name": "stderr",
          "text": [
            "[Parallel(n_jobs=2)]: Using backend LokyBackend with 2 concurrent workers.\n",
            "[Parallel(n_jobs=2)]: Done   5 out of   5 | elapsed:    0.1s finished\n"
          ]
        },
        {
          "output_type": "execute_result",
          "data": {
            "text/plain": [
              "{'fit_time': array([0.02627087, 0.02645922, 0.02075195, 0.01884031, 0.01145434]),\n",
              " 'score_time': array([0.00298381, 0.00340223, 0.00338101, 0.00319719, 0.00219345]),\n",
              " 'test_score': array([0.78244896, 0.82647211, 0.8591374 , 0.90853452, 0.79051732])}"
            ]
          },
          "metadata": {},
          "execution_count": 221
        }
      ]
    },
    {
      "cell_type": "code",
      "metadata": {
        "colab": {
          "base_uri": "https://localhost:8080/"
        },
        "outputId": "ea220df9-2960-4ee9-a9a2-9cea7bb500d3",
        "id": "RG5rvoCZwAu7"
      },
      "source": [
        "pipe = Pipeline([('scaler', StandardScaler()),\n",
        "                 ('model', SVC(kernel = 'rbf'))])\n",
        "\n",
        "param_grid = [{'model__gamma' : ['scale','auto'],\n",
        "               'model__C' : [1.0,0.1,0.01]}]\n",
        "\n",
        "gs = GridSearchCV(\n",
        "    estimator = pipe,\n",
        "    param_grid = param_grid,\n",
        "    n_jobs = multiprocessing.cpu_count(),\n",
        "    cv=5,\n",
        "    verbose=True\n",
        ")\n",
        "\n",
        "gs.fit(X,y)"
      ],
      "execution_count": 225,
      "outputs": [
        {
          "output_type": "stream",
          "name": "stdout",
          "text": [
            "Fitting 5 folds for each of 6 candidates, totalling 30 fits\n"
          ]
        },
        {
          "output_type": "execute_result",
          "data": {
            "text/plain": [
              "GridSearchCV(cv=5,\n",
              "             estimator=Pipeline(steps=[('scaler', StandardScaler()),\n",
              "                                       ('model', SVC())]),\n",
              "             n_jobs=2,\n",
              "             param_grid=[{'model__C': [1.0, 0.1, 0.01],\n",
              "                          'model__gamma': ['scale', 'auto']}],\n",
              "             verbose=True)"
            ]
          },
          "metadata": {},
          "execution_count": 225
        }
      ]
    },
    {
      "cell_type": "code",
      "metadata": {
        "colab": {
          "base_uri": "https://localhost:8080/"
        },
        "outputId": "9169122c-975e-4711-f722-dd86cafcbc40",
        "id": "97Jd-e3ywAu7"
      },
      "source": [
        "# 최적 파라미터 확인\n",
        "gs.best_estimator_"
      ],
      "execution_count": 226,
      "outputs": [
        {
          "output_type": "execute_result",
          "data": {
            "text/plain": [
              "Pipeline(steps=[('scaler', StandardScaler()), ('model', SVC())])"
            ]
          },
          "metadata": {},
          "execution_count": 226
        }
      ]
    },
    {
      "cell_type": "markdown",
      "metadata": {
        "id": "8488abTBN-GA"
      },
      "source": [
        "### 붓꽃"
      ]
    },
    {
      "cell_type": "code",
      "metadata": {
        "id": "uGJqYanBxDR2"
      },
      "source": [
        "X,y = load_iris(return_X_y = True)\n",
        "X_train, X_test, y_train, y_test = train_test_split(X,y, test_size = 0.2)"
      ],
      "execution_count": 246,
      "outputs": []
    },
    {
      "cell_type": "code",
      "metadata": {
        "id": "JhkbFI3pxDR2"
      },
      "source": [
        "scaler = StandardScaler()\n",
        "scaler.fit(X_train)\n",
        "X_train = scaler.fit_transform(X_train)\n",
        "X_test = scaler.transform(X_test)"
      ],
      "execution_count": 247,
      "outputs": []
    },
    {
      "cell_type": "code",
      "metadata": {
        "colab": {
          "base_uri": "https://localhost:8080/"
        },
        "outputId": "51c7ec03-ce4c-4747-9bcc-354caf0420f1",
        "id": "77HXxDzyxDR2"
      },
      "source": [
        "model = SVC(kernel = 'rbf')\n",
        "model.fit(X_train, y_train)"
      ],
      "execution_count": 248,
      "outputs": [
        {
          "output_type": "execute_result",
          "data": {
            "text/plain": [
              "SVC()"
            ]
          },
          "metadata": {},
          "execution_count": 248
        }
      ]
    },
    {
      "cell_type": "code",
      "metadata": {
        "colab": {
          "base_uri": "https://localhost:8080/"
        },
        "outputId": "7e8dabc6-2b5b-4316-954f-ea5e95858465",
        "id": "CpG0LzxDxDR2"
      },
      "source": [
        "print(\"학습 데이터 점수 : {}\".format(model.score(X_train, y_train)))\n",
        "print(\"평가 데이터 점수 : {}\".format(model.score(X_test, y_test)))"
      ],
      "execution_count": 249,
      "outputs": [
        {
          "output_type": "stream",
          "name": "stdout",
          "text": [
            "학습 데이터 점수 : 0.9666666666666667\n",
            "평가 데이터 점수 : 1.0\n"
          ]
        }
      ]
    },
    {
      "cell_type": "code",
      "metadata": {
        "colab": {
          "base_uri": "https://localhost:8080/"
        },
        "outputId": "be06ecc0-7e72-481d-8ef5-337c4b617343",
        "id": "srlE0je8xDR2"
      },
      "source": [
        "X_comp = TSNE(n_components = 2).fit_transform(X)\n",
        "X0,X1 = X_comp[:,0], X_comp[:,1]\n",
        "xx,yy = make_meshgrid(X0,X1)"
      ],
      "execution_count": 250,
      "outputs": [
        {
          "output_type": "stream",
          "name": "stderr",
          "text": [
            "/usr/local/lib/python3.8/dist-packages/sklearn/manifold/_t_sne.py:780: FutureWarning: The default initialization in TSNE will change from 'random' to 'pca' in 1.2.\n",
            "  warnings.warn(\n",
            "/usr/local/lib/python3.8/dist-packages/sklearn/manifold/_t_sne.py:790: FutureWarning: The default learning rate in TSNE will change from 200.0 to 'auto' in 1.2.\n",
            "  warnings.warn(\n"
          ]
        }
      ]
    },
    {
      "cell_type": "code",
      "metadata": {
        "colab": {
          "base_uri": "https://localhost:8080/",
          "height": 262
        },
        "outputId": "e58e0a5f-3eda-496c-b45d-90551c854669",
        "id": "fXw7hXiyxDR2"
      },
      "source": [
        "model.fit(X_comp,y)\n",
        "\n",
        "plot_contours(model, xx,yy, cmap = plt.cm.coolwarm, alpha = 0.7)\n",
        "plt.scatter(X0,X1, c=y, cmap = plt.cm.coolwarm, s = 20, edgecolors = 'k');"
      ],
      "execution_count": 251,
      "outputs": [
        {
          "output_type": "display_data",
          "data": {
            "text/plain": [
              "<Figure size 432x288 with 1 Axes>"
            ],
            "image/png": "[encoded data removed]"
          },
          "metadata": {}
        }
      ]
    },
    {
      "cell_type": "code",
      "metadata": {
        "colab": {
          "base_uri": "https://localhost:8080/"
        },
        "outputId": "7790ea6d-ab4f-4091-e0b2-d1c509d65269",
        "id": "y1qaoocyxDR2"
      },
      "source": [
        "# cv 검증을 통한 최적 파라미터 검출\n",
        "estimator = make_pipeline(StandardScaler(), SVR(kernel = 'rbf'))\n",
        "cross_validate(\n",
        "  estimator = estimator,\n",
        "  X=X, y=y,\n",
        "  cv = 5,\n",
        "  n_jobs = multiprocessing.cpu_count(),\n",
        "  verbose = True)"
      ],
      "execution_count": 252,
      "outputs": [
        {
          "output_type": "stream",
          "name": "stderr",
          "text": [
            "[Parallel(n_jobs=2)]: Using backend LokyBackend with 2 concurrent workers.\n",
            "[Parallel(n_jobs=2)]: Done   5 out of   5 | elapsed:    0.0s finished\n"
          ]
        },
        {
          "output_type": "execute_result",
          "data": {
            "text/plain": [
              "{'fit_time': array([0.00258565, 0.00234842, 0.00443888, 0.00356913, 0.00183916]),\n",
              " 'score_time': array([0.00213623, 0.00073338, 0.00061035, 0.00075793, 0.00047445]),\n",
              " 'test_score': array([0.        , 0.86319153, 0.        , 0.75949201, 0.        ])}"
            ]
          },
          "metadata": {},
          "execution_count": 252
        }
      ]
    },
    {
      "cell_type": "code",
      "metadata": {
        "colab": {
          "base_uri": "https://localhost:8080/"
        },
        "outputId": "0fcda5d7-c224-44ff-8910-1a3f62cb26a9",
        "id": "hhrxVMi6xDR2"
      },
      "source": [
        "pipe = Pipeline([('scaler', StandardScaler()),\n",
        "                 ('model', SVC(kernel = 'rbf'))])\n",
        "\n",
        "param_grid = [{'model__gamma' : ['scale','auto'],\n",
        "               'model__C' : [1.0,0.1,0.01]}]\n",
        "\n",
        "gs = GridSearchCV(\n",
        "    estimator = pipe,\n",
        "    param_grid = param_grid,\n",
        "    n_jobs = multiprocessing.cpu_count(),\n",
        "    cv=5,\n",
        "    verbose=True\n",
        ")\n",
        "\n",
        "gs.fit(X,y)"
      ],
      "execution_count": 253,
      "outputs": [
        {
          "output_type": "stream",
          "name": "stdout",
          "text": [
            "Fitting 5 folds for each of 6 candidates, totalling 30 fits\n"
          ]
        },
        {
          "output_type": "execute_result",
          "data": {
            "text/plain": [
              "GridSearchCV(cv=5,\n",
              "             estimator=Pipeline(steps=[('scaler', StandardScaler()),\n",
              "                                       ('model', SVC())]),\n",
              "             n_jobs=2,\n",
              "             param_grid=[{'model__C': [1.0, 0.1, 0.01],\n",
              "                          'model__gamma': ['scale', 'auto']}],\n",
              "             verbose=True)"
            ]
          },
          "metadata": {},
          "execution_count": 253
        }
      ]
    },
    {
      "cell_type": "code",
      "metadata": {
        "colab": {
          "base_uri": "https://localhost:8080/"
        },
        "outputId": "8d601197-510b-4c8c-9c41-684fa2bdac35",
        "id": "UWUljZPexDR2"
      },
      "source": [
        "# 최적 파라미터 확인\n",
        "gs.best_estimator_"
      ],
      "execution_count": 254,
      "outputs": [
        {
          "output_type": "execute_result",
          "data": {
            "text/plain": [
              "Pipeline(steps=[('scaler', StandardScaler()), ('model', SVC())])"
            ]
          },
          "metadata": {},
          "execution_count": 254
        }
      ]
    },
    {
      "cell_type": "markdown",
      "metadata": {
        "id": "nidX5eMZ3ncE"
      },
      "source": [
        "### 와인"
      ]
    },
    {
      "cell_type": "code",
      "metadata": {
        "id": "V24TZLrHx_Yp"
      },
      "source": [
        "X,y = load_wine(return_X_y = True)\n",
        "X_train, X_test, y_train, y_test = train_test_split(X,y, test_size = 0.2)"
      ],
      "execution_count": 255,
      "outputs": []
    },
    {
      "cell_type": "code",
      "metadata": {
        "id": "1px2U_Xzx_Yq"
      },
      "source": [
        "scaler = StandardScaler()\n",
        "scaler.fit(X_train)\n",
        "X_train = scaler.fit_transform(X_train)\n",
        "X_test = scaler.transform(X_test)"
      ],
      "execution_count": 256,
      "outputs": []
    },
    {
      "cell_type": "code",
      "metadata": {
        "colab": {
          "base_uri": "https://localhost:8080/"
        },
        "outputId": "ebda44fd-c472-42e1-ed1c-a813d3c96d0c",
        "id": "A7HjS3bIx_Yq"
      },
      "source": [
        "model = SVC(kernel = 'rbf')\n",
        "model.fit(X_train, y_train)"
      ],
      "execution_count": 257,
      "outputs": [
        {
          "output_type": "execute_result",
          "data": {
            "text/plain": [
              "SVC()"
            ]
          },
          "metadata": {},
          "execution_count": 257
        }
      ]
    },
    {
      "cell_type": "code",
      "metadata": {
        "colab": {
          "base_uri": "https://localhost:8080/"
        },
        "outputId": "1eba3bf4-3e79-4b55-9ad4-e14ce1e67074",
        "id": "8S4PA0jKx_Yq"
      },
      "source": [
        "print(\"학습 데이터 점수 : {}\".format(model.score(X_train, y_train)))\n",
        "print(\"평가 데이터 점수 : {}\".format(model.score(X_test, y_test)))"
      ],
      "execution_count": 258,
      "outputs": [
        {
          "output_type": "stream",
          "name": "stdout",
          "text": [
            "학습 데이터 점수 : 1.0\n",
            "평가 데이터 점수 : 0.9722222222222222\n"
          ]
        }
      ]
    },
    {
      "cell_type": "code",
      "metadata": {
        "colab": {
          "base_uri": "https://localhost:8080/"
        },
        "outputId": "e9377d90-4ae5-4153-92b5-a791d6292167",
        "id": "DC_X4FHux_Yq"
      },
      "source": [
        "X_comp = TSNE(n_components = 2).fit_transform(X)\n",
        "X0,X1 = X_comp[:,0], X_comp[:,1]\n",
        "xx,yy = make_meshgrid(X0,X1)"
      ],
      "execution_count": 259,
      "outputs": [
        {
          "output_type": "stream",
          "name": "stderr",
          "text": [
            "/usr/local/lib/python3.8/dist-packages/sklearn/manifold/_t_sne.py:780: FutureWarning: The default initialization in TSNE will change from 'random' to 'pca' in 1.2.\n",
            "  warnings.warn(\n",
            "/usr/local/lib/python3.8/dist-packages/sklearn/manifold/_t_sne.py:790: FutureWarning: The default learning rate in TSNE will change from 200.0 to 'auto' in 1.2.\n",
            "  warnings.warn(\n"
          ]
        }
      ]
    },
    {
      "cell_type": "code",
      "metadata": {
        "colab": {
          "base_uri": "https://localhost:8080/",
          "height": 262
        },
        "outputId": "0b16e65c-1f80-4596-8cdc-f64d050c0834",
        "id": "TfTabnW-x_Yq"
      },
      "source": [
        "model.fit(X_comp,y)\n",
        "\n",
        "plot_contours(model, xx,yy, cmap = plt.cm.coolwarm, alpha = 0.7)\n",
        "plt.scatter(X0,X1, c=y, cmap = plt.cm.coolwarm, s = 20, edgecolors = 'k');"
      ],
      "execution_count": 260,
      "outputs": [
        {
          "output_type": "display_data",
          "data": {
            "text/plain": [
              "<Figure size 432x288 with 1 Axes>"
            ],
            "image/png": "[encoded data removed]"
          },
          "metadata": {}
        }
      ]
    },
    {
      "cell_type": "code",
      "metadata": {
        "colab": {
          "base_uri": "https://localhost:8080/"
        },
        "outputId": "513cf218-4319-4d21-81ec-f92dbc97134d",
        "id": "RaIe7corx_Yq"
      },
      "source": [
        "# cv 검증을 통한 최적 파라미터 검출\n",
        "estimator = make_pipeline(StandardScaler(), SVR(kernel = 'rbf'))\n",
        "cross_validate(\n",
        "  estimator = estimator,\n",
        "  X=X, y=y,\n",
        "  cv = 5,\n",
        "  n_jobs = multiprocessing.cpu_count(),\n",
        "  verbose = True)"
      ],
      "execution_count": 261,
      "outputs": [
        {
          "output_type": "stream",
          "name": "stderr",
          "text": [
            "[Parallel(n_jobs=2)]: Using backend LokyBackend with 2 concurrent workers.\n",
            "[Parallel(n_jobs=2)]: Done   5 out of   5 | elapsed:    0.0s finished\n"
          ]
        },
        {
          "output_type": "execute_result",
          "data": {
            "text/plain": [
              "{'fit_time': array([0.00871825, 0.00296545, 0.01254439, 0.00904846, 0.00767255]),\n",
              " 'score_time': array([0.00089598, 0.00086474, 0.00093174, 0.00093007, 0.00100613]),\n",
              " 'test_score': array([0.        , 0.7709333 , 0.        , 0.78211906, 0.        ])}"
            ]
          },
          "metadata": {},
          "execution_count": 261
        }
      ]
    },
    {
      "cell_type": "code",
      "metadata": {
        "colab": {
          "base_uri": "https://localhost:8080/"
        },
        "outputId": "0552b64e-4697-444b-bd68-8c1eae0beef9",
        "id": "z5KHo8Rvx_Yq"
      },
      "source": [
        "pipe = Pipeline([('scaler', StandardScaler()),\n",
        "                 ('model', SVC(kernel = 'rbf'))])\n",
        "\n",
        "param_grid = [{'model__gamma' : ['scale','auto'],\n",
        "               'model__C' : [1.0,0.1,0.01]}]\n",
        "\n",
        "gs = GridSearchCV(\n",
        "    estimator = pipe,\n",
        "    param_grid = param_grid,\n",
        "    n_jobs = multiprocessing.cpu_count(),\n",
        "    cv=5,\n",
        "    verbose=True\n",
        ")\n",
        "\n",
        "gs.fit(X,y)"
      ],
      "execution_count": 262,
      "outputs": [
        {
          "output_type": "stream",
          "name": "stdout",
          "text": [
            "Fitting 5 folds for each of 6 candidates, totalling 30 fits\n"
          ]
        },
        {
          "output_type": "execute_result",
          "data": {
            "text/plain": [
              "GridSearchCV(cv=5,\n",
              "             estimator=Pipeline(steps=[('scaler', StandardScaler()),\n",
              "                                       ('model', SVC())]),\n",
              "             n_jobs=2,\n",
              "             param_grid=[{'model__C': [1.0, 0.1, 0.01],\n",
              "                          'model__gamma': ['scale', 'auto']}],\n",
              "             verbose=True)"
            ]
          },
          "metadata": {},
          "execution_count": 262
        }
      ]
    },
    {
      "cell_type": "code",
      "metadata": {
        "colab": {
          "base_uri": "https://localhost:8080/"
        },
        "outputId": "fbba8c2b-cddf-49ab-eff4-1b28cbab2086",
        "id": "5rK1DuqQx_Yq"
      },
      "source": [
        "# 최적 파라미터 확인\n",
        "gs.best_estimator_"
      ],
      "execution_count": 263,
      "outputs": [
        {
          "output_type": "execute_result",
          "data": {
            "text/plain": [
              "Pipeline(steps=[('scaler', StandardScaler()), ('model', SVC())])"
            ]
          },
          "metadata": {},
          "execution_count": 263
        }
      ]
    }
  ]
}